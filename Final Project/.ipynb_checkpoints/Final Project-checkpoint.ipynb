{
 "metadata": {
  "name": ""
 },
 "nbformat": 3,
 "nbformat_minor": 0,
 "worksheets": [
  {
   "cells": [
    {
     "cell_type": "code",
     "collapsed": false,
     "input": [
      "__author__ = 'sewinn', 'shmbianc'\n",
      "__email__ = \"sewinn@ucsc.edu\", \"shmbianc@ucsc.edu\"\n",
      "\n",
      "from IPython.display import HTML\n",
      "from nltk.corpus import wordnet as wn\n",
      "import re\n",
      "\n",
      "def posHighlight(bookPath):\n",
      "    \"\"\"\n",
      "\tThis function highlights all words, coded for their respective parts of speech. However, the final result\n",
      "    lacks any punctuation and new lines from the original file. There are also some errors when determining the parts\n",
      "    of speech as wordnet only supplies synonyms for a given word.\n",
      "\n",
      "    Args:\n",
      "\t\tbookPath: The filepath to a text file.\n",
      "\n",
      "    Returns:\n",
      "        highlightedBook: A version of the input text file with all words highlighted according to their part of speech.\n",
      "\n",
      "    Raises:\n",
      "        Nothing\n",
      "\t\"\"\"\n",
      "    \n",
      "    colorDict = {'n':'green',\n",
      "                 'v':'red',\n",
      "                 'a':'blue',\n",
      "                 'r':'yellow'} #Establishes a dictionary which assigns each part of speech a color to be tagged with.\n",
      "                               #where NOUN is green, VERB is red, ADJ is blue and ADV is yellow \n",
      "    \n",
      "    #The next four lines open the book file and set up a regular expression search for all words.\n",
      "    fb = open(bookPath, 'r')\n",
      "    fb.close\n",
      "    book = fb.readlines()\n",
      "    wordRE = re.compile(r'[\\w]+')\n",
      "    #Note that the search splits contractions into two results (\"you're\" is returned as \"you\" and \"re\"). This is\n",
      "    #fine, as we'll be using the words looking for words to compare with the parts of speech in their WordNet\n",
      "    #entries, and contractions do not have clear parts of speech.\n",
      "    \n",
      "    lineList = [] #Initalizes a list to hold all lines formed so that their words can be manipulated,\n",
      "                  #later to be joined into highlightedBook.\n",
      "    \n",
      "    for line in book:\n",
      "        wordList = [] #Initialized a list of words for each line in the book.\n",
      "        \n",
      "        #The following three lines give the results of word.RE(book) as strings in wordList rather than a single SRE object.\n",
      "        for matches in wordRE.finditer(line):\n",
      "            word = line[matches.start():matches.end()]\n",
      "            wordList.append(word)\n",
      "            \n",
      "        for word in wordList:\n",
      "            posList = [] #Initalizes a list to hold all parts of speech for which the word has an entry in Wordnet.\n",
      "            countDict = {} #Intializes a dictionary which will store the counts of each part of speech as a key, and the\n",
      "                           #part of speech itself as the value.\n",
      "                \n",
      "            #These three lines pull the parts of speech from each word, and uses them to populate posList.\n",
      "            entries = wn.synsets(word)\n",
      "            for i in range(0, len(entries)):\n",
      "                posList.append(entries[i].pos)\n",
      "                \n",
      "            #These two lines populate colorDict with the number of times the word is defined with the particular part of\n",
      "            #speech as the keys, and the part of speech the count corresponds to as the value.\n",
      "            for key in colorDict.keys():\n",
      "                countDict[posList.count(key)] = key\n",
      "            \n",
      "            #These four lines choose the part of speech to color the word with as the part of speech used\n",
      "            #in the most Wordnet definitons for the word given, and then replaces the original word with its\n",
      "            #correctly colored counterpart.\n",
      "            partOfSpeech = countDict[sorted(countDict)[-1]]\n",
      "            if wn.synsets(word, partOfSpeech):\n",
      "                colorWord = '<font color=\"{0}\">{1}</font>'.format(colorDict[partOfSpeech], word)\n",
      "                wordList[wordList.index(word)] = colorWord\n",
      "                \n",
      "        #With wordList now populated with the correctly colored words, each wordList is joined into their own version of string\n",
      "        #finalLine, and each finalLine is appended to the list lineList.\n",
      "        finalLine = \" \".join(wordList)\n",
      "        lineList.append(finalLine)\n",
      "    \n",
      "    #lineList, composed of all the lines of bookPath, properly colored, is joined together into highlightedBook, our final output.\n",
      "    highlightedBook = \" \".join(lineList)\n",
      "    return highlightedBook\n",
      "\n",
      "HTML(posHighlight('./test.txt'))"
     ],
     "language": "python",
     "metadata": {},
     "outputs": [
      {
       "html": [
        "This <font color=\"red\">is</font> <font color=\"yellow\">just</font> <font color=\"green\">a</font> <font color=\"yellow\">short</font> <font color=\"green\">blurb</font> to <font color=\"yellow\">quickly</font> <font color=\"red\">test</font> my <font color=\"green\">code</font> and <font color=\"red\">see</font> if <font color=\"green\">it</font> <font color=\"red\">works</font> because the <font color=\"blue\">other</font> <font color=\"red\">files</font> <font color=\"red\">are</font> <font color=\"yellow\">too</font> <font color=\"yellow\">big</font>"
       ],
       "metadata": {},
       "output_type": "pyout",
       "prompt_number": 113,
       "text": [
        "<IPython.core.display.HTML at 0x16364208>"
       ]
      }
     ],
     "prompt_number": 113
    },
    {
     "cell_type": "code",
     "collapsed": false,
     "input": [],
     "language": "python",
     "metadata": {},
     "outputs": []
    }
   ],
   "metadata": {}
  }
 ]
}