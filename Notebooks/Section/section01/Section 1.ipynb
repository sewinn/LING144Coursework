{
 "metadata": {
  "name": ""
 },
 "nbformat": 3,
 "nbformat_minor": 0,
 "worksheets": [
  {
   "cells": [
    {
     "cell_type": "markdown",
     "metadata": {},
     "source": [
      "# Let's do some Python!\n",
      "\n",
      "## Fun with Unicode\n",
      "\n",
      "Load a string into a variable"
     ]
    },
    {
     "cell_type": "code",
     "collapsed": false,
     "input": [
      "s = \"The flying circus\""
     ],
     "language": "python",
     "metadata": {},
     "outputs": [],
     "prompt_number": 13
    },
    {
     "cell_type": "markdown",
     "metadata": {},
     "source": [
      "Print that string!"
     ]
    },
    {
     "cell_type": "code",
     "collapsed": false,
     "input": [
      "s"
     ],
     "language": "python",
     "metadata": {},
     "outputs": [
      {
       "metadata": {},
       "output_type": "pyout",
       "prompt_number": 14,
       "text": [
        "'The flying circus'"
       ]
      }
     ],
     "prompt_number": 14
    },
    {
     "cell_type": "markdown",
     "metadata": {},
     "source": [
      "Load a unicode string"
     ]
    },
    {
     "cell_type": "code",
     "collapsed": false,
     "input": [
      "sj = u\"\u4e16\u754c\u3053\u3093\u306b\u3061\u306f\uff01\""
     ],
     "language": "python",
     "metadata": {},
     "outputs": [],
     "prompt_number": 53
    },
    {
     "cell_type": "markdown",
     "metadata": {},
     "source": [
      "What happens if you print it? What if we just ask its value raw?"
     ]
    },
    {
     "cell_type": "code",
     "collapsed": false,
     "input": [
      "print sj\n",
      "sj"
     ],
     "language": "python",
     "metadata": {},
     "outputs": [
      {
       "output_type": "stream",
       "stream": "stdout",
       "text": [
        "\u4e16\u754c\u3053\u3093\u306b\u3061\u306f\uff01\n"
       ]
      },
      {
       "metadata": {},
       "output_type": "pyout",
       "prompt_number": 230,
       "text": [
        "u'\\u4e16\\u754c\\u3053\\u3093\\u306b\\u3061\\u306f\\uff01'"
       ]
      }
     ],
     "prompt_number": 230
    },
    {
     "cell_type": "markdown",
     "metadata": {},
     "source": [
      "Encode that unicode string in utf-8"
     ]
    },
    {
     "cell_type": "code",
     "collapsed": false,
     "input": [
      "sj8 = sj.encode(\"utf8\")"
     ],
     "language": "python",
     "metadata": {},
     "outputs": [],
     "prompt_number": 231
    },
    {
     "cell_type": "markdown",
     "metadata": {},
     "source": [
      "Now when we call it, what'll it look like? When we print it?"
     ]
    },
    {
     "cell_type": "code",
     "collapsed": false,
     "input": [
      "print sj8\n",
      "sj8"
     ],
     "language": "python",
     "metadata": {},
     "outputs": [
      {
       "output_type": "stream",
       "stream": "stdout",
       "text": [
        "\u4e16\u754c\u3053\u3093\u306b\u3061\u306f\uff01\n"
       ]
      },
      {
       "metadata": {},
       "output_type": "pyout",
       "prompt_number": 232,
       "text": [
        "'\\xe4\\xb8\\x96\\xe7\\x95\\x8c\\xe3\\x81\\x93\\xe3\\x82\\x93\\xe3\\x81\\xab\\xe3\\x81\\xa1\\xe3\\x81\\xaf\\xef\\xbc\\x81'"
       ]
      }
     ],
     "prompt_number": 232
    },
    {
     "cell_type": "markdown",
     "metadata": {},
     "source": [
      "What will happen if we try to decode this utf-8 encoded string from utf-16?"
     ]
    },
    {
     "cell_type": "code",
     "collapsed": false,
     "input": [
      "print sj8.decode(\"utf16\")"
     ],
     "language": "python",
     "metadata": {},
     "outputs": [
      {
       "output_type": "stream",
       "stream": "stdout",
       "text": [
        "\ub8e4\ue796\u8c95\u81e3\ue393\u9382\u81e3\ue3ab\ua181\u81e3\uefaf\u81bc\n"
       ]
      }
     ],
     "prompt_number": 233
    },
    {
     "cell_type": "markdown",
     "metadata": {},
     "source": [
      "## Working with strings\n",
      "\n",
      "Let's save a more complicated string"
     ]
    },
    {
     "cell_type": "code",
     "collapsed": false,
     "input": [
      "canal = \"A man, a plan, a canal: Panama!\"\n",
      "print canal"
     ],
     "language": "python",
     "metadata": {},
     "outputs": [
      {
       "output_type": "stream",
       "stream": "stdout",
       "text": [
        "A man, a plan, a canal: Panama!\n"
       ]
      }
     ],
     "prompt_number": 62
    },
    {
     "cell_type": "markdown",
     "metadata": {},
     "source": [
      "What's the third character?"
     ]
    },
    {
     "cell_type": "code",
     "collapsed": false,
     "input": [
      "print canal[2]"
     ],
     "language": "python",
     "metadata": {},
     "outputs": [
      {
       "output_type": "stream",
       "stream": "stdout",
       "text": [
        "m\n"
       ]
      }
     ],
     "prompt_number": 79
    },
    {
     "cell_type": "markdown",
     "metadata": {},
     "source": [
      "What happens if we try to get the value from at an index we don't have?"
     ]
    },
    {
     "cell_type": "code",
     "collapsed": false,
     "input": [
      "print canal[35]"
     ],
     "language": "python",
     "metadata": {},
     "outputs": [
      {
       "ename": "IndexError",
       "evalue": "string index out of range",
       "output_type": "pyerr",
       "traceback": [
        "\u001b[0;31m---------------------------------------------------------------------------\u001b[0m\n\u001b[0;31mIndexError\u001b[0m                                Traceback (most recent call last)",
        "\u001b[0;32m<ipython-input-234-2212333079f5>\u001b[0m in \u001b[0;36m<module>\u001b[0;34m()\u001b[0m\n\u001b[0;32m----> 1\u001b[0;31m \u001b[0;32mprint\u001b[0m \u001b[0mcanal\u001b[0m\u001b[0;34m[\u001b[0m\u001b[0;36m35\u001b[0m\u001b[0;34m]\u001b[0m\u001b[0;34m\u001b[0m\u001b[0m\n\u001b[0m",
        "\u001b[0;31mIndexError\u001b[0m: string index out of range"
       ]
      }
     ],
     "prompt_number": 234
    },
    {
     "cell_type": "markdown",
     "metadata": {},
     "source": [
      "Get just the first 4 character, the next 4, and the rest (just by counting)"
     ]
    },
    {
     "cell_type": "code",
     "collapsed": false,
     "input": [
      "print canal[0:4]\n",
      "print canal[4:8]\n",
      "print canal[8:]"
     ],
     "language": "python",
     "metadata": {},
     "outputs": [
      {
       "output_type": "stream",
       "stream": "stdout",
       "text": [
        "A ma\n",
        "n, a\n",
        " plan, a canal: Panama!\n"
       ]
      }
     ],
     "prompt_number": 83
    },
    {
     "cell_type": "markdown",
     "metadata": {},
     "source": [
      "What's the last character? What are the last two characters?"
     ]
    },
    {
     "cell_type": "code",
     "collapsed": false,
     "input": [
      "print canal[-1]\n",
      "print canal[-2:]"
     ],
     "language": "python",
     "metadata": {},
     "outputs": [
      {
       "output_type": "stream",
       "stream": "stdout",
       "text": [
        "!\n",
        "a!\n"
       ]
      }
     ],
     "prompt_number": 84
    },
    {
     "cell_type": "markdown",
     "metadata": {},
     "source": [
      "Let's see what methods we have."
     ]
    },
    {
     "cell_type": "code",
     "collapsed": false,
     "input": [
      "print dir(canal)"
     ],
     "language": "python",
     "metadata": {},
     "outputs": [
      {
       "output_type": "stream",
       "stream": "stdout",
       "text": [
        "['__add__', '__class__', '__contains__', '__delattr__', '__doc__', '__eq__', '__format__', '__ge__', '__getattribute__', '__getitem__', '__getnewargs__', '__getslice__', '__gt__', '__hash__', '__init__', '__le__', '__len__', '__lt__', '__mod__', '__mul__', '__ne__', '__new__', '__reduce__', '__reduce_ex__', '__repr__', '__rmod__', '__rmul__', '__setattr__', '__sizeof__', '__str__', '__subclasshook__', '_formatter_field_name_split', '_formatter_parser', 'capitalize', 'center', 'count', 'decode', 'encode', 'endswith', 'expandtabs', 'find', 'format', 'index', 'isalnum', 'isalpha', 'isdigit', 'islower', 'isspace', 'istitle', 'isupper', 'join', 'ljust', 'lower', 'lstrip', 'partition', 'replace', 'rfind', 'rindex', 'rjust', 'rpartition', 'rsplit', 'rstrip', 'split', 'splitlines', 'startswith', 'strip', 'swapcase', 'title', 'translate', 'upper', 'zfill']\n"
       ]
      }
     ],
     "prompt_number": 86
    },
    {
     "cell_type": "markdown",
     "metadata": {},
     "source": [
      "Let's try a few: split, find, upper, lower, len"
     ]
    },
    {
     "cell_type": "code",
     "collapsed": false,
     "input": [
      "print canal.split()\n",
      "print canal.find(\"a\")\n",
      "print canal.upper()\n",
      "print canal.lower()\n",
      "print len(canal)"
     ],
     "language": "python",
     "metadata": {},
     "outputs": [
      {
       "output_type": "stream",
       "stream": "stdout",
       "text": [
        "['A', 'man,', 'a', 'plan,', 'a', 'canal:', 'Panama!']\n",
        "3\n",
        "A MAN, A PLAN, A CANAL: PANAMA!\n",
        "a man, a plan, a canal: panama!\n",
        "31\n"
       ]
      }
     ],
     "prompt_number": 93
    },
    {
     "cell_type": "markdown",
     "metadata": {},
     "source": [
      "Rather than changing the string, we can also just check it with methods like isupper, islower, and isdigit"
     ]
    },
    {
     "cell_type": "code",
     "collapsed": false,
     "input": [
      "print \"Arthur\".islower()\n",
      "print \"gawain\".islower()\n",
      "print \"50\".isdigit()\n",
      "print \"Fifty\".isdigit()"
     ],
     "language": "python",
     "metadata": {},
     "outputs": [
      {
       "output_type": "stream",
       "stream": "stdout",
       "text": [
        "False\n",
        "True\n",
        "\n",
        "True\n",
        "False\n"
       ]
      }
     ],
     "prompt_number": 98
    },
    {
     "cell_type": "markdown",
     "metadata": {},
     "source": [
      "We can manipulate truth conditions just like you're used to from Semantics. How can I tell whether \"'arthur' is lowercase\" and \"'5' is a number\" have the same value?"
     ]
    },
    {
     "cell_type": "code",
     "collapsed": false,
     "input": [
      "x = \"Arthur\"\n",
      "y = \"5\"\n",
      "\n",
      "print x.islower()\n",
      "print y.isdigit()\n",
      "True == False\n",
      "x.islower() == y.isdigit()"
     ],
     "language": "python",
     "metadata": {},
     "outputs": [
      {
       "output_type": "stream",
       "stream": "stdout",
       "text": [
        "False\n",
        "True\n"
       ]
      },
      {
       "metadata": {},
       "output_type": "pyout",
       "prompt_number": 102,
       "text": [
        "False"
       ]
      }
     ],
     "prompt_number": 102
    },
    {
     "cell_type": "markdown",
     "metadata": {},
     "source": [
      "We can also do 'and', 'or', etc"
     ]
    },
    {
     "cell_type": "code",
     "collapsed": false,
     "input": [
      "x.islower() or y.isdigit()"
     ],
     "language": "python",
     "metadata": {},
     "outputs": [
      {
       "metadata": {},
       "output_type": "pyout",
       "prompt_number": 103,
       "text": [
        "True"
       ]
      }
     ],
     "prompt_number": 103
    },
    {
     "cell_type": "markdown",
     "metadata": {},
     "source": [
      "Conditional statements are also possible. Print \"Lowercase\" if x is lowercase."
     ]
    },
    {
     "cell_type": "code",
     "collapsed": false,
     "input": [
      "if x.islower():\n",
      "    print \"Lowercase\""
     ],
     "language": "python",
     "metadata": {},
     "outputs": [],
     "prompt_number": 104
    },
    {
     "cell_type": "markdown",
     "metadata": {},
     "source": [
      "Well, that's not so helpful. Add an 'else' condition so it'll print something."
     ]
    },
    {
     "cell_type": "code",
     "collapsed": false,
     "input": [
      "if x.islower():\n",
      "    print \"Lowercase\"\n",
      "else:\n",
      "    print \"Nope, not lowercase\""
     ],
     "language": "python",
     "metadata": {},
     "outputs": [
      {
       "output_type": "stream",
       "stream": "stdout",
       "text": [
        "Nope, not lowercase\n"
       ]
      }
     ],
     "prompt_number": 105
    },
    {
     "cell_type": "markdown",
     "metadata": {},
     "source": [
      "### A little more with strings\n",
      "\n",
      "You can add and multiply them! What happens?"
     ]
    },
    {
     "cell_type": "code",
     "collapsed": false,
     "input": [
      "z = \"badger\"\n",
      "print z + \"s\"\n",
      "print z + \" \" + z\n",
      "print z * 5\n",
      "#print z * z"
     ],
     "language": "python",
     "metadata": {},
     "outputs": [
      {
       "output_type": "stream",
       "stream": "stdout",
       "text": [
        "badgers\n",
        "badger badger\n",
        "badgerbadgerbadgerbadgerbadger\n"
       ]
      }
     ],
     "prompt_number": 111
    },
    {
     "cell_type": "markdown",
     "metadata": {},
     "source": [
      "You can look for characters and substrings in them"
     ]
    },
    {
     "cell_type": "code",
     "collapsed": false,
     "input": [
      "print \"man\" in canal"
     ],
     "language": "python",
     "metadata": {},
     "outputs": [
      {
       "output_type": "stream",
       "stream": "stdout",
       "text": [
        "True\n"
       ]
      }
     ],
     "prompt_number": 112
    },
    {
     "cell_type": "code",
     "collapsed": false,
     "input": [
      "if \"man\" in canal:\n",
      "    print canal.upper() + \" TEDDY!\""
     ],
     "language": "python",
     "metadata": {},
     "outputs": [
      {
       "output_type": "stream",
       "stream": "stdout",
       "text": [
        "A MAN, A PLAN, A CANAL: PANAMA! TEDDY!\n"
       ]
      }
     ],
     "prompt_number": 114
    },
    {
     "cell_type": "markdown",
     "metadata": {},
     "source": [
      "## Lists\n",
      "\n",
      "Make a list of numbers"
     ]
    },
    {
     "cell_type": "code",
     "collapsed": false,
     "input": [
      "nums = [3,5,9]\n",
      "print nums"
     ],
     "language": "python",
     "metadata": {},
     "outputs": [
      {
       "output_type": "stream",
       "stream": "stdout",
       "text": [
        "[3, 5, 9]\n"
       ]
      }
     ],
     "prompt_number": 148
    },
    {
     "cell_type": "markdown",
     "metadata": {},
     "source": [
      "Lists have methods too. Let's try length, count, append, remove, and reverse"
     ]
    },
    {
     "cell_type": "code",
     "collapsed": false,
     "input": [
      "print len(nums)\n",
      "print nums.count(5)"
     ],
     "language": "python",
     "metadata": {},
     "outputs": [
      {
       "output_type": "stream",
       "stream": "stdout",
       "text": [
        "3\n",
        "1\n"
       ]
      }
     ],
     "prompt_number": 149
    },
    {
     "cell_type": "code",
     "collapsed": false,
     "input": [
      "nums.append(3)\n",
      "print nums"
     ],
     "language": "python",
     "metadata": {},
     "outputs": [
      {
       "output_type": "stream",
       "stream": "stdout",
       "text": [
        "[3, 5, 9, 3]\n"
       ]
      }
     ],
     "prompt_number": 150
    },
    {
     "cell_type": "code",
     "collapsed": false,
     "input": [
      "nums.remove(3)\n",
      "print nums"
     ],
     "language": "python",
     "metadata": {},
     "outputs": [
      {
       "output_type": "stream",
       "stream": "stdout",
       "text": [
        "[5, 9, 3]\n"
       ]
      }
     ],
     "prompt_number": 151
    },
    {
     "cell_type": "code",
     "collapsed": false,
     "input": [
      "nums.reverse()\n",
      "print nums"
     ],
     "language": "python",
     "metadata": {},
     "outputs": [
      {
       "output_type": "stream",
       "stream": "stdout",
       "text": [
        "[3, 9, 5]\n"
       ]
      }
     ],
     "prompt_number": 152
    },
    {
     "cell_type": "markdown",
     "metadata": {},
     "source": [
      "If you want your list to print in a different format, you can join it. The syntax is weird."
     ]
    },
    {
     "cell_type": "code",
     "collapsed": false,
     "input": [
      "ted = [\"Teddy\", '\"T.R.\"', \"Roosevelt\", \"Jr.\"]\n",
      "print ted\n",
      "print \" \".join(ted)"
     ],
     "language": "python",
     "metadata": {},
     "outputs": [
      {
       "output_type": "stream",
       "stream": "stdout",
       "text": [
        "['Teddy', '\"T.R.\"', 'Roosevelt', 'Jr.']\n",
        "Teddy \"T.R.\" Roosevelt Jr.\n"
       ]
      }
     ],
     "prompt_number": 157
    },
    {
     "cell_type": "markdown",
     "metadata": {},
     "source": [
      "You can change lists. Let's replace \"Teddy\" with his given name."
     ]
    },
    {
     "cell_type": "code",
     "collapsed": false,
     "input": [
      "print ted[0]\n",
      "ted[0] = \"Theodore\"\n",
      "print ted"
     ],
     "language": "python",
     "metadata": {},
     "outputs": [
      {
       "output_type": "stream",
       "stream": "stdout",
       "text": [
        "Teddy\n",
        "['Theodore', '\"T.R.\"', 'Roosevelt', 'Jr.']\n"
       ]
      }
     ],
     "prompt_number": 159
    },
    {
     "cell_type": "code",
     "collapsed": false,
     "input": [
      "ted.append(\"Jr.\")\n",
      "print ted"
     ],
     "language": "python",
     "metadata": {},
     "outputs": [
      {
       "output_type": "stream",
       "stream": "stdout",
       "text": [
        "['Theodore', '\"T.R.\"', 'Roosevelt', 'Jr.', 'Jr.']\n"
       ]
      }
     ],
     "prompt_number": 161
    },
    {
     "cell_type": "code",
     "collapsed": false,
     "input": [
      "print ted.index(\"Jr.\")"
     ],
     "language": "python",
     "metadata": {},
     "outputs": [
      {
       "output_type": "stream",
       "stream": "stdout",
       "text": [
        "3\n"
       ]
      }
     ],
     "prompt_number": 164
    },
    {
     "cell_type": "markdown",
     "metadata": {},
     "source": [
      "## Ints and Floats\n",
      "\n",
      "Ints are integers. Floats have decimals."
     ]
    },
    {
     "cell_type": "code",
     "collapsed": false,
     "input": [
      "a = 3\n",
      "print a / 2\n",
      "\n",
      "b  = 3.0\n",
      "print b / 2\n",
      "\n",
      "print 4 / a\n",
      "print 4 / float(a)\n",
      "print float(4) / a\n",
      "print float(4/a)"
     ],
     "language": "python",
     "metadata": {},
     "outputs": [
      {
       "output_type": "stream",
       "stream": "stdout",
       "text": [
        "1\n",
        "1.5\n",
        "1\n",
        "1.33333333333\n",
        "1.33333333333\n",
        "1.0\n"
       ]
      }
     ],
     "prompt_number": 181
    },
    {
     "cell_type": "markdown",
     "metadata": {},
     "source": [
      "## Dicts\n",
      "\n",
      "We're going to use these a lot. Let's make one."
     ]
    },
    {
     "cell_type": "code",
     "collapsed": false,
     "input": [
      "apple = {'word':'apple','POS':'N','category':'fruit'}\n",
      "print apple"
     ],
     "language": "python",
     "metadata": {},
     "outputs": [
      {
       "output_type": "stream",
       "stream": "stdout",
       "text": [
        "{'category': 'fruit', 'word': 'apple', 'POS': 'N'}\n"
       ]
      }
     ],
     "prompt_number": 185
    },
    {
     "cell_type": "markdown",
     "metadata": {},
     "source": [
      "We can add new key/value pairs"
     ]
    },
    {
     "cell_type": "code",
     "collapsed": false,
     "input": [
      "apple['N-type'] = 'count'\n",
      "print apple"
     ],
     "language": "python",
     "metadata": {},
     "outputs": [
      {
       "output_type": "stream",
       "stream": "stdout",
       "text": [
        "{'category': 'fruit', 'N-type': 'count', 'word': 'apple', 'POS': 'N'}\n"
       ]
      }
     ],
     "prompt_number": 188
    },
    {
     "cell_type": "markdown",
     "metadata": {},
     "source": [
      "We can print the keys. What kind of object is returned?"
     ]
    },
    {
     "cell_type": "code",
     "collapsed": false,
     "input": [
      "print apple.keys()\n",
      "print type(apple.keys())"
     ],
     "language": "python",
     "metadata": {},
     "outputs": [
      {
       "output_type": "stream",
       "stream": "stdout",
       "text": [
        "['category', 'N-type', 'word', 'POS']\n",
        "<type 'list'>\n"
       ]
      }
     ],
     "prompt_number": 192
    },
    {
     "cell_type": "markdown",
     "metadata": {},
     "source": [
      "Also available are the pairs of keys and values. What kind of objects are they?"
     ]
    },
    {
     "cell_type": "code",
     "collapsed": false,
     "input": [
      "print apple.items()\n",
      "print apple.items()[0]\n",
      "print type(apple.items()[0])"
     ],
     "language": "python",
     "metadata": {},
     "outputs": [
      {
       "output_type": "stream",
       "stream": "stdout",
       "text": [
        "[('category', 'fruit'), ('N-type', 'count'), ('word', 'apple'), ('POS', 'N')]\n",
        "('category', 'fruit')\n",
        "<type 'tuple'>\n"
       ]
      }
     ],
     "prompt_number": 195
    },
    {
     "cell_type": "markdown",
     "metadata": {},
     "source": [
      "We can build a dict from a list of tuples"
     ]
    },
    {
     "cell_type": "code",
     "collapsed": false,
     "input": [
      "corn = [('word','corn'),('category','veg'),('POS','N'),('N-type','mass')]\n",
      "print corn\n",
      "print dict(corn)\n",
      "print type(dict(corn))"
     ],
     "language": "python",
     "metadata": {},
     "outputs": [
      {
       "output_type": "stream",
       "stream": "stdout",
       "text": [
        "[('word', 'corn'), ('category', 'veg'), ('POS', 'N'), ('N-type', 'mass')]\n",
        "{'category': 'veg', 'N-type': 'mass', 'word': 'corn', 'POS': 'N'}\n",
        "<type 'dict'>\n"
       ]
      }
     ],
     "prompt_number": 198
    },
    {
     "cell_type": "markdown",
     "metadata": {},
     "source": [
      "You can look for keys in a dict"
     ]
    },
    {
     "cell_type": "code",
     "collapsed": false,
     "input": [
      "apple.has_key('N-type')"
     ],
     "language": "python",
     "metadata": {},
     "outputs": [
      {
       "metadata": {},
       "output_type": "pyout",
       "prompt_number": 200,
       "text": [
        "True"
       ]
      }
     ],
     "prompt_number": 200
    },
    {
     "cell_type": "code",
     "collapsed": false,
     "input": [
      "print 'N-type' in apple\n",
      "print 'count' in apple"
     ],
     "language": "python",
     "metadata": {},
     "outputs": [
      {
       "output_type": "stream",
       "stream": "stdout",
       "text": [
        "True\n",
        "False\n"
       ]
      }
     ],
     "prompt_number": 204
    },
    {
     "cell_type": "markdown",
     "metadata": {},
     "source": [
      "## Mutability\n",
      "\n",
      "Some objects can be changed, and others can't. What have we already seen?"
     ]
    },
    {
     "cell_type": "code",
     "collapsed": false,
     "input": [
      "print apple\n",
      "apple[\"N-type\"] = 'mass'\n",
      "print apple"
     ],
     "language": "python",
     "metadata": {},
     "outputs": [
      {
       "output_type": "stream",
       "stream": "stdout",
       "text": [
        "{'category': 'fruit', 'N-type': 'count', 'word': 'apple', 'POS': 'N'}\n",
        "{'category': 'fruit', 'N-type': 'mass', 'word': 'apple', 'POS': 'N'}\n"
       ]
      }
     ],
     "prompt_number": 205
    },
    {
     "cell_type": "code",
     "collapsed": false,
     "input": [
      "print ted\n",
      "ted[0] = 'Teddy'\n",
      "print ted"
     ],
     "language": "python",
     "metadata": {},
     "outputs": [
      {
       "output_type": "stream",
       "stream": "stdout",
       "text": [
        "['Theodore', '\"T.R.\"', 'Roosevelt', 'Jr.', 'Jr.']\n",
        "['Teddy', '\"T.R.\"', 'Roosevelt', 'Jr.', 'Jr.']\n"
       ]
      }
     ],
     "prompt_number": 206
    },
    {
     "cell_type": "code",
     "collapsed": false,
     "input": [
      "print canal\n",
      "print canal[9]\n",
      "canal[9] = 'f'"
     ],
     "language": "python",
     "metadata": {},
     "outputs": [
      {
       "ename": "TypeError",
       "evalue": "'str' object does not support item assignment",
       "output_type": "pyerr",
       "traceback": [
        "\u001b[0;31m---------------------------------------------------------------------------\u001b[0m\n\u001b[0;31mTypeError\u001b[0m                                 Traceback (most recent call last)",
        "\u001b[0;32m<ipython-input-220-29f09223c4ab>\u001b[0m in \u001b[0;36m<module>\u001b[0;34m()\u001b[0m\n\u001b[1;32m      1\u001b[0m \u001b[0;32mprint\u001b[0m \u001b[0mcanal\u001b[0m\u001b[0;34m\u001b[0m\u001b[0m\n\u001b[1;32m      2\u001b[0m \u001b[0;32mprint\u001b[0m \u001b[0mcanal\u001b[0m\u001b[0;34m[\u001b[0m\u001b[0;36m9\u001b[0m\u001b[0;34m]\u001b[0m\u001b[0;34m\u001b[0m\u001b[0m\n\u001b[0;32m----> 3\u001b[0;31m \u001b[0mcanal\u001b[0m\u001b[0;34m[\u001b[0m\u001b[0;36m9\u001b[0m\u001b[0;34m]\u001b[0m \u001b[0;34m=\u001b[0m \u001b[0;34m'f'\u001b[0m\u001b[0;34m\u001b[0m\u001b[0m\n\u001b[0m",
        "\u001b[0;31mTypeError\u001b[0m: 'str' object does not support item assignment"
       ]
      },
      {
       "output_type": "stream",
       "stream": "stdout",
       "text": [
        "A man, a plan, a canal: Panama!\n",
        "p\n"
       ]
      }
     ],
     "prompt_number": 220
    },
    {
     "cell_type": "code",
     "collapsed": false,
     "input": [
      "print canal\n",
      "print canal[9]\n",
      "canlist = list(canal)\n",
      "canlist[9] = 'f'\n",
      "print \"\".join(canlist)\n"
     ],
     "language": "python",
     "metadata": {},
     "outputs": [
      {
       "output_type": "stream",
       "stream": "stdout",
       "text": [
        "A man, a plan, a canal: Panama!\n",
        "p\n",
        "A man, a flan, a canal: Panama!\n"
       ]
      }
     ],
     "prompt_number": 218
    },
    {
     "cell_type": "markdown",
     "metadata": {},
     "source": [
      "## Loops\n",
      "\n",
      "_For_ loops are your friend. There are two ways to use them"
     ]
    },
    {
     "cell_type": "code",
     "collapsed": false,
     "input": [
      "numbers = [3,5,9]\n",
      "for num in numbers:\n",
      "    print num"
     ],
     "language": "python",
     "metadata": {},
     "outputs": [
      {
       "output_type": "stream",
       "stream": "stdout",
       "text": [
        "3\n",
        "5\n",
        "9\n"
       ]
      }
     ],
     "prompt_number": 224
    },
    {
     "cell_type": "code",
     "collapsed": false,
     "input": [
      "for i in range(0,len(numbers)):\n",
      "    print i\n",
      "    #print numbers[i]"
     ],
     "language": "python",
     "metadata": {},
     "outputs": [
      {
       "output_type": "stream",
       "stream": "stdout",
       "text": [
        "0\n",
        "3\n",
        "1\n",
        "5\n",
        "2\n",
        "9\n"
       ]
      }
     ],
     "prompt_number": 226
    },
    {
     "cell_type": "markdown",
     "metadata": {},
     "source": [
      "That's it for now! You've seen everything you need to write some 'useful' linguistic functions\n",
      "\n",
      "### Sample programs\n",
      "\n",
      "Two options: **poor man's pig latin** and **word palindromes**\n",
      "\n",
      "##### Poor man's pig latin\n",
      "\n",
      "- Takes a word of English, returns that word in Pig Latin (or something close)\n",
      "- What are the rules of pig latin?\n",
      "    - Move first consonant to the end, add 'ay'\n",
      "    - If it starts with a vowel, don't move anything\n",
      "    - Actually, it's not the consonant, it's the onset. Get the whole cluster\n",
      "- Not implemented:\n",
      "    - People vary, but more happens with the vowels. ('way', 'yay')\n",
      "    - Short words don't change\n"
     ]
    },
    {
     "cell_type": "code",
     "collapsed": false,
     "input": [
      "s = \"poodle\"\n",
      "\n",
      "def pL(s):\n",
      "    return s[1:] + s[0] + \"ay\"\n",
      "\n",
      "print pL(s)"
     ],
     "language": "python",
     "metadata": {},
     "outputs": []
    },
    {
     "cell_type": "code",
     "collapsed": false,
     "input": [
      "s = raw_input(\"Atwhay oday ouyay antway otay angechay otay Igpay Atinlay?  \")\n",
      "vowels = ['a', 'e', 'i', 'o', 'u']\n",
      "\n",
      "def findFirstVowel(s):\n",
      "    m = len(s) + 1\n",
      "    for v in vowels:\n",
      "        c = s.find(v)\n",
      "        m = min(c, m)\n",
      "    if m < len(s) + 1:\n",
      "        ret = m\n",
      "    else:\n",
      "        ret = -1\n",
      "    return ret\n",
      "            \n",
      "    \n",
      "def pL(s):\n",
      "    if s[0] in vowels:\n",
      "        ret = s\n",
      "    else:\n",
      "        vowelPlace = findFirstVowel(s)\n",
      "        if vowelPlace == -1:\n",
      "            ret = s\n",
      "        else:\n",
      "            onset = s[:vowelPlace]\n",
      "            ret = s[vowelPlace:] + onset\n",
      "        ret = s[1:] + s[0]\n",
      "    return ret + \"ay\"\n",
      "\n",
      "print pL(s)"
     ],
     "language": "python",
     "metadata": {},
     "outputs": []
    },
    {
     "cell_type": "markdown",
     "metadata": {},
     "source": [
      "#### Palindromes\n",
      "\n",
      "- Takes a word and tells you whether it's a palindrome\n",
      "- What are the rules?\n",
      "    - Same forward and backward\n",
      "    - If it's a phrase: Punctuation and spaces are ignored\n",
      "- Make it as computationally simple as possible\n",
      "- Not implemented:\n",
      "    - Why would the below be better if it were a function? (What could we write instead of those \"print\" lines?)"
     ]
    },
    {
     "cell_type": "code",
     "collapsed": false,
     "input": [
      "s = \"cammakc\"\n",
      "\n",
      "i = 0\n",
      "cur = s[i]\n",
      "look = s[-(i+1)]\n",
      "\n",
      "for i in range(len(s)/2):\n",
      "    cur = s[i]\n",
      "    look = s[-(i+1)]\n",
      "    if cur != look:\n",
      "        print \"No\"\n",
      "\n",
      "print \"Yes\""
     ],
     "language": "python",
     "metadata": {},
     "outputs": [
      {
       "output_type": "stream",
       "stream": "stdout",
       "text": [
        "No\n",
        "No\n",
        "Yes\n"
       ]
      }
     ],
     "prompt_number": 229
    },
    {
     "cell_type": "code",
     "collapsed": false,
     "input": [],
     "language": "python",
     "metadata": {},
     "outputs": []
    }
   ],
   "metadata": {}
  }
 ]
}