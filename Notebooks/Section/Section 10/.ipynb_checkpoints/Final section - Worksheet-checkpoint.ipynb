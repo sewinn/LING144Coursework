{
 "metadata": {
  "name": ""
 },
 "nbformat": 3,
 "nbformat_minor": 0,
 "worksheets": [
  {
   "cells": [
    {
     "cell_type": "markdown",
     "metadata": {},
     "source": [
      "# Welcome to Week 10!\n",
      "\n",
      "Today's project: Homework 6 Problem 3 (the `adjacent` method).\n",
      "\n",
      "You can find this notebook in the usual place: https://github.com/obnorthrup/144coursework"
     ]
    },
    {
     "cell_type": "markdown",
     "metadata": {},
     "source": [
      "## Framing the problem\n",
      "\n",
      "Here was Problem 3:\n",
      "    \n",
      "> Build a subclass of the `SearchTree` class in `runTregex.py` that contains a method `adjacent(self, elt)`, which checks whether adjacent to `self` is a treelet bearing `elt` as node label (for non-terminals) or value (in the case of leaves).\n",
      "\n",
      "What is this asking of you?"
     ]
    },
    {
     "cell_type": "markdown",
     "metadata": {},
     "source": [
      "## Breaking it down\n",
      "\n",
      "#### 1. Setting up the subclass\n",
      "\n",
      "Let's make a subclass of `ParentedTree` instead of SearchTree so we don't have to worry about `RunTregex.py`"
     ]
    },
    {
     "cell_type": "code",
     "collapsed": false,
     "input": [
      "from nltk import ParentedTree\n",
      "\n",
      "class myTree(ParentedTree):\n",
      "    \n",
      "    foo = \"bar\""
     ],
     "language": "python",
     "metadata": {},
     "outputs": [],
     "prompt_number": 2
    },
    {
     "cell_type": "markdown",
     "metadata": {},
     "source": [
      "Now let's instantiate this, so we have a tree to play with"
     ]
    },
    {
     "cell_type": "code",
     "collapsed": false,
     "input": [
      "tree = myTree(\"\"\"(VP (VBD got)\n",
      "  (NP\n",
      "    (NP (DT a)\n",
      "      (ADJP\n",
      "        (QP ($ $) (CD 29.4) (CD million))\n",
      "        (-NONE- *U*))\n",
      "      (NNP Air) (NNP Force) (NN contract))\n",
      "    (PP (IN for)\n",
      "      (NP (NN intelligence) (NNS data) (NN handling)))))\"\"\")"
     ],
     "language": "python",
     "metadata": {},
     "outputs": [],
     "prompt_number": 3
    },
    {
     "cell_type": "code",
     "collapsed": false,
     "input": [
      "tree.draw()"
     ],
     "language": "python",
     "metadata": {},
     "outputs": [],
     "prompt_number": 62
    },
    {
     "cell_type": "markdown",
     "metadata": {},
     "source": [
      "#### 2. Moving around the tree\n",
      "\n",
      "Subtrees keep track of where they sit in larger trees. We can move around with methods like `parent()` and `root()`, and we can see where we are with `treeposition()`"
     ]
    },
    {
     "cell_type": "code",
     "collapsed": false,
     "input": [
      "print type(tree[1, 0, 4, 0])"
     ],
     "language": "python",
     "metadata": {},
     "outputs": [
      {
       "output_type": "stream",
       "stream": "stdout",
       "text": [
        "<type 'str'>\n"
       ]
      }
     ],
     "prompt_number": 24
    },
    {
     "cell_type": "code",
     "collapsed": false,
     "input": [
      "intel = tree[1,1,1,0]\n",
      "#print intel\n",
      "print intel.parent().parent().left_sibling()[-1]\n",
      "#print intel.root()"
     ],
     "language": "python",
     "metadata": {},
     "outputs": [
      {
       "output_type": "stream",
       "stream": "stdout",
       "text": [
        "(NN contract)\n"
       ]
      }
     ],
     "prompt_number": 60
    },
    {
     "cell_type": "code",
     "collapsed": false,
     "input": [],
     "language": "python",
     "metadata": {},
     "outputs": [],
     "prompt_number": 60
    },
    {
     "cell_type": "code",
     "collapsed": false,
     "input": [],
     "language": "python",
     "metadata": {},
     "outputs": [],
     "prompt_number": 60
    },
    {
     "cell_type": "markdown",
     "metadata": {},
     "source": [
      "#### 3. Finding the closest right sibling\n",
      "\n",
      "How can we do this?"
     ]
    },
    {
     "cell_type": "code",
     "collapsed": false,
     "input": [
      "#My version\n",
      "def closestSib(tr):\n",
      "    '''Crawl up the tree from tr and return the treeposition of the first right sibling.'''\n",
      "    if tr.right_sibling():\n",
      "        return tr.right_sibling().treeposition()\n",
      "    elif tr.parent().right_sibling():\n",
      "        return tr.parent().right_sibling().treeposition()\n",
      "    else:\n",
      "        return None #returns None if no closest sibling found\n",
      "closestSib(intel)"
     ],
     "language": "python",
     "metadata": {},
     "outputs": [
      {
       "metadata": {},
       "output_type": "pyout",
       "prompt_number": 61,
       "text": [
        "(1, 1, 1, 1)"
       ]
      }
     ],
     "prompt_number": 61
    },
    {
     "cell_type": "code",
     "collapsed": false,
     "input": [
      "#Oliver's version\n",
      "def closestSib(tr):\n",
      "    '''Crawl up the tree from tr and return the treeposition of the first right sibling.'''\n",
      "    depth = len(tr.treeposition())\n",
      "    searcher = tr #searcher will crawl up tree until a node is\n",
      "    \n",
      "    for i in range(0, depth): #only crawl up until the root\n",
      "        tr_sib = searcher.right_sibling()\n",
      "        if tr_sib != None:\n",
      "            return tr_sib\n",
      "        searcher = searcher.parent()\n",
      "    \n",
      "    return None\n",
      "\n",
      "closestSib(tree[1,0,1,0,2])"
     ],
     "language": "python",
     "metadata": {},
     "outputs": [
      {
       "metadata": {},
       "output_type": "pyout",
       "prompt_number": 69,
       "text": [
        "myTree('-NONE-', ['*U*'])"
       ]
      }
     ],
     "prompt_number": 69
    },
    {
     "cell_type": "markdown",
     "metadata": {},
     "source": [
      "#### 4. Find the rightmost leaf\n",
      "\n",
      "This part's quick"
     ]
    },
    {
     "cell_type": "code",
     "collapsed": false,
     "input": [
      "def firstLeaf(sib):\n",
      "    '''Given a tree sib, return the position of the leftmost leaf in sib'''\n",
      "    \n",
      "    return None # Return something else here"
     ],
     "language": "python",
     "metadata": {},
     "outputs": [],
     "prompt_number": 12
    },
    {
     "cell_type": "markdown",
     "metadata": {},
     "source": [
      "#### 5. Climb back up, checking as we go\n",
      "\n",
      "Keep in mind: At the leaf we're checking a string against `elt`. At subtrees we're checking a node label."
     ]
    },
    {
     "cell_type": "code",
     "collapsed": false,
     "input": [
      "def right(t1, elt): \n",
      "    '''Given a tree t1 and a string elt, return True if t1 precedes elt'''\n",
      "    \n",
      "    #sibling = closestSib(t1)\n",
      "    if sibling === None:\n",
      "        return False\n",
      "    \n",
      "    leafPos = firstLeaf(sibling)\n",
      "    \n",
      "    leaf = t1.root()[leafPos]\n",
      "    if leaf == elt:\n",
      "        return True\n",
      "    \n",
      "    pointer = t1.root()[leafPos[:-1]]\n",
      "    depth = len(sibling) #\n",
      "    \n",
      "    return sib.treeposition() + sib.leaf_treeposition(0)"
     ],
     "language": "python",
     "metadata": {},
     "outputs": [],
     "prompt_number": 13
    },
    {
     "cell_type": "code",
     "collapsed": false,
     "input": [
      "tree.leaf_treeposition(0)"
     ],
     "language": "python",
     "metadata": {},
     "outputs": [
      {
       "metadata": {},
       "output_type": "pyout",
       "prompt_number": 74,
       "text": [
        "(0, 0)"
       ]
      }
     ],
     "prompt_number": 74
    },
    {
     "cell_type": "markdown",
     "metadata": {},
     "source": [
      "## Putting it together\n",
      "\n",
      "How can these methods be put together in the class definition?"
     ]
    },
    {
     "cell_type": "code",
     "collapsed": false,
     "input": [
      "from nltk import ParentedTree\n",
      "\n",
      "class myTree(ParentedTree):\n",
      "    \n",
      "    foo = \"bar\" #delete me\n",
      "    \n",
      "    # Add your method(s) here. Don't forget 'self' is always an argument.\n",
      "    \n",
      "    #At the very least, you'll need:\n",
      "    \n",
      "    def right(self, elt):\n",
      "        \n",
      "        #Your code here\n",
      "        \n",
      "        return False"
     ],
     "language": "python",
     "metadata": {},
     "outputs": [],
     "prompt_number": 1
    },
    {
     "cell_type": "code",
     "collapsed": false,
     "input": [
      "tree = myTree(\"\"\"(VP (VBD got)\n",
      "  (NP\n",
      "    (NP (DT a)\n",
      "      (ADJP\n",
      "        (QP ($ $) (CD 29.4) (CD million))\n",
      "        (-NONE- *U*))\n",
      "      (NNP Air) (NNP Force) (NN contract))\n",
      "    (PP (IN for)\n",
      "      (NP (NN intelligence) (NNS data) (NN handling)))))\"\"\")\n",
      "\n",
      "contract = tree[1,0,4]\n",
      "\n",
      "print contract.right(\"for\") # Should be true\n",
      "print contract.right(\"IN\")  # Should be true\n",
      "print contract.right(\"PP\")  # Should be true\n",
      "print contract.right(\"NP\")  # Should be false"
     ],
     "language": "python",
     "metadata": {},
     "outputs": [
      {
       "output_type": "stream",
       "stream": "stdout",
       "text": [
        "False\n"
       ]
      }
     ],
     "prompt_number": 2
    },
    {
     "cell_type": "markdown",
     "metadata": {},
     "source": [
      "## We're done! Good luck on final projects."
     ]
    }
   ],
   "metadata": {}
  }
 ]
}