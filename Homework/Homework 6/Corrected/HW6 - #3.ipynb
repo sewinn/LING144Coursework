{
 "metadata": {
  "name": ""
 },
 "nbformat": 3,
 "nbformat_minor": 0,
 "worksheets": [
  {
   "cells": [
    {
     "cell_type": "code",
     "collapsed": false,
     "input": [
      "class subSearchTree():\n",
      "    def adjacent(self, elt):\n",
      "        t = Treebank(dir, self) #Searches for term defined by \"self\" in a directory given elsewhere in the SearchTree class.\n",
      "        u = Treebank(dir, elt) #Searches for term defined by \"elt\" in the same directory.\n",
      "        t.run()\n",
      "        u.run()\n",
      "        tTree = t.matchTree() #Assigns a variable to the exact tree matched in t\n",
      "        uTree = u.matchTree() #Assigns a variable to the exact tree matched in u\n",
      "        finalPattern = tTree + \" ($ /*/ < \" + uTree + \")\" #Searches for matches in which tTree is a sister to any nodes which is the immediate parent of uTree.\n",
      "        finalSearch = Treebank(dir, pattern)\n",
      "        #If such a case as finalPattern is found, a value of True is returned, and text saying so is printed. Otherwise, a False value is returned with a message saying so.\n",
      "        if finalSearch:\n",
      "            return True\n",
      "            self + \" is adjacent to \" + elt + \".\"\n",
      "        else:\n",
      "            return False\n",
      "            print self + \" is not adjacent to \" + elt + \".\"\n",
      "            \n",
      "        #!!! You probably want to just return True or False.\n",
      "        #!!! Otherwise, this is the right skeleton.\n",
      "            \n",
      "#I should note that I wasn't, at all, able to debug this code. This is because I couldn't successfully assign a directory without\n",
      "#getting an error, and I didn't have the time or ability to determine the cause of the error, due to the holiday. If it turns out\n",
      "#that this code is unusable (which is very likely the case), I've copied the error below:\n",
      "\n",
      "#CalledProcessError: Command '['java', '-cp', \n",
      "#'/Users/shawnbianchi/Linguistics/ComputationalMethods/scripts*:/Users/shawnbianchi/Linguistics/ComputationalMethods/scripts/stanford-tregex-2013-06-20.jar',\n",
      "#'edu.ucsc.TregexWrapper.TregexWrapper',\n",
      "#'/Users/shawnbianchi/Linguistics/ComputationalMethods/data/Corpora/treebank_3/parsed/mrg/wsj/']'\n",
      "#returned non-zero exit status 1"
     ],
     "language": "python",
     "metadata": {},
     "outputs": []
    }
   ],
   "metadata": {}
  }
 ]
}