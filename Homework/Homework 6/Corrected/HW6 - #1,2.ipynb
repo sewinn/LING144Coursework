{
 "metadata": {
  "name": ""
 },
 "nbformat": 3,
 "nbformat_minor": 0,
 "worksheets": [
  {
   "cells": [
    {
     "cell_type": "markdown",
     "metadata": {},
     "source": [
      "## Problem 1\n",
      "\n",
      "Please find all of the control predicates in the WSJ subpart of the Penn Treebank. I recommend looking for predicates you know are control explicitly and using that to build tree patterns."
     ]
    },
    {
     "cell_type": "code",
     "collapsed": false,
     "input": [
      "VP<(VB$(S<</[*][-]\\d/))\n",
      "\n",
      "#Find any VP that immediately dominates a VB which is the sister of a sentence,\n",
      "#which dominates (not necessarily immediately) any trace.\n",
      "\n",
      "#!!! Does this only get control predicates, or does something else sneak in?\n",
      "#!!! (Take a look at raising vs control predicates) "
     ],
     "language": "python",
     "metadata": {},
     "outputs": []
    },
    {
     "cell_type": "markdown",
     "metadata": {},
     "source": [
      "## Problem 2\n",
      "\n",
      "Please produce a table showing, for the top 50 verbs in WSJ subpart of the Penn Treebank, how many times each verb appears in the active, the passive without a by phrase, and the passive with a by phrase. \n",
      "\n",
      "For example, the table might have a line like the following (after the header):\n",
      "\n",
      "<table><tr><th>Verb</th><th>Active</th><th>Passive No By</th><th>Passive By</th></tr>\n",
      "\n",
      "<tr><th>sing</th><th>23</th><th>12</th><th>56</th></tr>\n",
      "</table>"
     ]
    },
    {
     "cell_type": "code",
     "collapsed": false,
     "input": [
      "import re\n",
      "from runTregex import Treebank\n",
      "\n",
      "dir = '..\\corpora\\penntreebank\\treebank\\treebank_3\\parsed\\mrg\\wsj\\']' \n",
      "#active: \"/VB|VBD|VBG|VBP|VBZ/\"\n",
      "#passive no by: \"VBN$/(?!(PP<<by))/\"\n",
      "#passive by: \"VBN $(PP<by)\"\n",
      "\n",
      "t = Treebank(dir, \"/VB|VBD|VBG|VBP|VBZ|VBN/\")\n",
      "#!!! This could just be /^VB/\n",
      "t.run()\n",
      "\n",
      "t = sorted(t)\n",
      "topVerbs = len(t)[0:49]\n",
      "\n",
      "activeDict = {}\n",
      "psvDict = {}\n",
      "psvNoByDict  = {}\n",
      "\n",
      "for verb in topVerbs:\n",
      "    verb = {}\n",
      "    active = (dir,\"/VB|VBD|VBG|VBP|VBZ/\")\n",
      "    psvNoBy = (dir, \"VBN$/(?!(PP<<by))/\")\n",
      "    psvBy = (dir, \"VBN $(PP<by)\")\n",
      "    \n",
      "#!!! This is a good start. Those double slashes below are part of the problem. If you can figure out why they're there, it'll start working for you.\n",
      "\n",
      "#Even though this is unfinished, I can't debug the code at all or see what I am doing as I keep getting a directory error\n",
      "#and have been unable to debug that.\n",
      "#here's the error I receive:\n",
      "#CalledProcessError: Command '['java', '-cp', '\\\\Users\\\\Sam\\\\desktop\\\\comp. methods\\\\computationalMethods\\\\scripts\\\\*:\\\\Users\\\\Sam\\\\Desktop\\\\Comp. Methods\\\\ComputationalMethods\\\\scripts\\\\stanford-tregex-2013-06-20\\\\stanford-tregex.jar', 'edu.ucsc.TregexWrapper.TregexWrapper', '/VB|VBD|VBG|VBP|VBZ|VBN/', \"..\\\\corpora\\\\penntreebank\\treebank\\treebank_3\\\\parsed\\\\mrg\\\\wsj']\"]' returned non-zero exit status 1"
     ],
     "language": "python",
     "metadata": {},
     "outputs": [
      {
       "ename": "CalledProcessError",
       "evalue": "Command '['java', '-cp', '\\\\Users\\\\Sam\\\\desktop\\\\comp. methods\\\\computationalMethods\\\\scripts\\\\*:\\\\Users\\\\Sam\\\\Desktop\\\\Comp. Methods\\\\ComputationalMethods\\\\scripts\\\\stanford-tregex-2013-06-20\\\\stanford-tregex.jar', 'edu.ucsc.TregexWrapper.TregexWrapper', '/VB|VBD|VBG|VBP|VBZ|VBN/', \"..\\\\corpora\\\\penntreebank\\treebank\\treebank_3\\\\parsed\\\\mrg\\\\wsj']\"]' returned non-zero exit status 1",
       "output_type": "pyerr",
       "traceback": [
        "\u001b[1;31m---------------------------------------------------------------------------\u001b[0m\n\u001b[1;31mCalledProcessError\u001b[0m                        Traceback (most recent call last)",
        "\u001b[1;32m<ipython-input-1-e8e0295cae59>\u001b[0m in \u001b[0;36m<module>\u001b[1;34m()\u001b[0m\n\u001b[0;32m      8\u001b[0m \u001b[1;33m\u001b[0m\u001b[0m\n\u001b[0;32m      9\u001b[0m \u001b[0mt\u001b[0m \u001b[1;33m=\u001b[0m \u001b[0mTreebank\u001b[0m\u001b[1;33m(\u001b[0m\u001b[0mdir\u001b[0m\u001b[1;33m,\u001b[0m \u001b[1;34m\"/VB|VBD|VBG|VBP|VBZ|VBN/\"\u001b[0m\u001b[1;33m)\u001b[0m\u001b[1;33m\u001b[0m\u001b[0m\n\u001b[1;32m---> 10\u001b[1;33m \u001b[0mt\u001b[0m\u001b[1;33m.\u001b[0m\u001b[0mrun\u001b[0m\u001b[1;33m(\u001b[0m\u001b[1;33m)\u001b[0m\u001b[1;33m\u001b[0m\u001b[0m\n\u001b[0m\u001b[0;32m     11\u001b[0m \u001b[1;33m\u001b[0m\u001b[0m\n\u001b[0;32m     12\u001b[0m \u001b[0mt\u001b[0m \u001b[1;33m=\u001b[0m \u001b[0msorted\u001b[0m\u001b[1;33m(\u001b[0m\u001b[0mt\u001b[0m\u001b[1;33m)\u001b[0m\u001b[1;33m\u001b[0m\u001b[0m\n",
        "\u001b[1;32mC:\\Users\\Sam\\Desktop\\Comp. Methods\\LING144Coursework\\Homework\\Homework 6\\runTregex.pyc\u001b[0m in \u001b[0;36mrun\u001b[1;34m(self)\u001b[0m\n\u001b[0;32m     75\u001b[0m     \u001b[1;32mdef\u001b[0m \u001b[0mrun\u001b[0m\u001b[1;33m(\u001b[0m\u001b[0mself\u001b[0m\u001b[1;33m)\u001b[0m\u001b[1;33m:\u001b[0m\u001b[1;33m\u001b[0m\u001b[0m\n\u001b[0;32m     76\u001b[0m         \u001b[1;32mprint\u001b[0m \u001b[1;34m\"Running tregex...\"\u001b[0m\u001b[1;33m\u001b[0m\u001b[0m\n\u001b[1;32m---> 77\u001b[1;33m         \u001b[0mraw\u001b[0m \u001b[1;33m=\u001b[0m \u001b[0msubprocess\u001b[0m\u001b[1;33m.\u001b[0m\u001b[0mcheck_output\u001b[0m\u001b[1;33m(\u001b[0m\u001b[1;33m[\u001b[0m\u001b[1;34m\"java\"\u001b[0m\u001b[1;33m,\u001b[0m \u001b[1;34m\"-cp\"\u001b[0m\u001b[1;33m,\u001b[0m \u001b[0mself\u001b[0m\u001b[1;33m.\u001b[0m\u001b[0mjavaJars\u001b[0m\u001b[1;33m,\u001b[0m \u001b[0mself\u001b[0m\u001b[1;33m.\u001b[0m\u001b[0mprogramLoc\u001b[0m\u001b[1;33m,\u001b[0m \u001b[0mself\u001b[0m\u001b[1;33m.\u001b[0m\u001b[0mpattern\u001b[0m\u001b[1;33m,\u001b[0m \u001b[0mself\u001b[0m\u001b[1;33m.\u001b[0m\u001b[0mdir\u001b[0m\u001b[1;33m]\u001b[0m\u001b[1;33m,\u001b[0m \u001b[0mstderr\u001b[0m\u001b[1;33m=\u001b[0m\u001b[0msubprocess\u001b[0m\u001b[1;33m.\u001b[0m\u001b[0mSTDOUT\u001b[0m\u001b[1;33m)\u001b[0m\u001b[1;33m\u001b[0m\u001b[0m\n\u001b[0m\u001b[0;32m     78\u001b[0m         \u001b[1;32mprint\u001b[0m \u001b[1;34m\"Processing output...\"\u001b[0m\u001b[1;33m\u001b[0m\u001b[0m\n\u001b[0;32m     79\u001b[0m         \u001b[1;32mfor\u001b[0m \u001b[0mma\u001b[0m \u001b[1;32min\u001b[0m \u001b[0mraw\u001b[0m\u001b[1;33m.\u001b[0m\u001b[0msplit\u001b[0m\u001b[1;33m(\u001b[0m\u001b[1;34m\"\\n\"\u001b[0m\u001b[1;33m)\u001b[0m\u001b[1;33m:\u001b[0m\u001b[1;33m\u001b[0m\u001b[0m\n",
        "\u001b[1;32mC:\\Anaconda\\lib\\subprocess.pyc\u001b[0m in \u001b[0;36mcheck_output\u001b[1;34m(*popenargs, **kwargs)\u001b[0m\n\u001b[0;32m    573\u001b[0m         \u001b[1;32mif\u001b[0m \u001b[0mcmd\u001b[0m \u001b[1;32mis\u001b[0m \u001b[0mNone\u001b[0m\u001b[1;33m:\u001b[0m\u001b[1;33m\u001b[0m\u001b[0m\n\u001b[0;32m    574\u001b[0m             \u001b[0mcmd\u001b[0m \u001b[1;33m=\u001b[0m \u001b[0mpopenargs\u001b[0m\u001b[1;33m[\u001b[0m\u001b[1;36m0\u001b[0m\u001b[1;33m]\u001b[0m\u001b[1;33m\u001b[0m\u001b[0m\n\u001b[1;32m--> 575\u001b[1;33m         \u001b[1;32mraise\u001b[0m \u001b[0mCalledProcessError\u001b[0m\u001b[1;33m(\u001b[0m\u001b[0mretcode\u001b[0m\u001b[1;33m,\u001b[0m \u001b[0mcmd\u001b[0m\u001b[1;33m,\u001b[0m \u001b[0moutput\u001b[0m\u001b[1;33m=\u001b[0m\u001b[0moutput\u001b[0m\u001b[1;33m)\u001b[0m\u001b[1;33m\u001b[0m\u001b[0m\n\u001b[0m\u001b[0;32m    576\u001b[0m     \u001b[1;32mreturn\u001b[0m \u001b[0moutput\u001b[0m\u001b[1;33m\u001b[0m\u001b[0m\n\u001b[0;32m    577\u001b[0m \u001b[1;33m\u001b[0m\u001b[0m\n",
        "\u001b[1;31mCalledProcessError\u001b[0m: Command '['java', '-cp', '\\\\Users\\\\Sam\\\\desktop\\\\comp. methods\\\\computationalMethods\\\\scripts\\\\*:\\\\Users\\\\Sam\\\\Desktop\\\\Comp. Methods\\\\ComputationalMethods\\\\scripts\\\\stanford-tregex-2013-06-20\\\\stanford-tregex.jar', 'edu.ucsc.TregexWrapper.TregexWrapper', '/VB|VBD|VBG|VBP|VBZ|VBN/', \"..\\\\corpora\\\\penntreebank\\treebank\\treebank_3\\\\parsed\\\\mrg\\\\wsj']\"]' returned non-zero exit status 1"
       ]
      },
      {
       "output_type": "stream",
       "stream": "stdout",
       "text": [
        "Running tregex...\n"
       ]
      }
     ],
     "prompt_number": 1
    },
    {
     "cell_type": "code",
     "collapsed": false,
     "input": [],
     "language": "python",
     "metadata": {},
     "outputs": []
    }
   ],
   "metadata": {}
  }
 ]
}