{
 "metadata": {
  "name": ""
 },
 "nbformat": 3,
 "nbformat_minor": 0,
 "worksheets": [
  {
   "cells": [
    {
     "cell_type": "markdown",
     "metadata": {},
     "source": [
      "## Problem 1\n",
      "\n",
      "Please find all of the control predicates in the WSJ subpart of the Penn Treebank. I recommend looking for predicates you know are control explicitly and using that to build tree patterns."
     ]
    },
    {
     "cell_type": "code",
     "collapsed": false,
     "input": [
      "VP<(VB$(S<</[*][-]\\d/))\n",
      "\n",
      "#Find any VP that immediately dominates a VB which is the sister of a sentence,\n",
      "#which dominates (not necessarily immediately) any trace."
     ],
     "language": "python",
     "metadata": {},
     "outputs": []
    },
    {
     "cell_type": "markdown",
     "metadata": {},
     "source": [
      "## Problem 2\n",
      "\n",
      "Please produce a table showing, for the top 50 verbs in WSJ subpart of the Penn Treebank, how many times each verb appears in the active, the passive without a by phrase, and the passive with a by phrase. \n",
      "\n",
      "For example, the table might have a line like the following (after the header):\n",
      "\n",
      "<table><tr><th>Verb</th><th>Active</th><th>Passive No By</th><th>Passive By</th></tr>\n",
      "\n",
      "<tr><th>sing</th><th>23</th><th>12</th><th>56</th></tr>\n",
      "</table>"
     ]
    },
    {
     "cell_type": "code",
     "collapsed": false,
     "input": [
      "import re\n",
      "from runTregex import Treebank\n",
      "\n",
      "dir = '..\\corpora\\penntreebank\\treebank\\treebank_3\\parsed\\mrg\\wsj\\']' \n",
      "#active: \"/VB|VBD|VBG|VBP|VBZ/\"\n",
      "#passive no by: \"VBN$/(?!(PP<<by))/\"\n",
      "#passive by: \"VBN $(PP<by)\"\n",
      "\n",
      "t = Treebank(dir, \"/VB|VBD|VBG|VBP|VBZ|VBN/\")\n",
      "t.run()\n",
      "\n",
      "t = sorted(t)\n",
      "topVerbs = len(t)[0:49]\n",
      "\n",
      "activeDict = {}\n",
      "psvDict = {}\n",
      "psvNoByDict  = {}\n",
      "\n",
      "for verb in topVerbs:\n",
      "    verb = {}\n",
      "    active = (dir,\"/VB|VBD|VBG|VBP|VBZ/\")\n",
      "    psvNoBy = (dir, \"VBN$/(?!(PP<<by))/\")\n",
      "    psvBy = (dir, \"VBN $(PP<by)\")\n",
      "    "
     ],
     "language": "python",
     "metadata": {},
     "outputs": [
      {
       "ename": "CalledProcessError",
       "evalue": "Command '['java', '-cp', '\\\\Users\\\\Sam\\\\desktop\\\\comp. methods\\\\computationalMethods\\\\scripts\\\\*:\\\\Users\\\\Sam\\\\Desktop\\\\Comp. Methods\\\\ComputationalMethods\\\\scripts\\\\stanford-tregex-2013-06-20\\\\stanford-tregex.jar', 'edu.ucsc.TregexWrapper.TregexWrapper', '/VB|VBD|VBG|VBP|VBZ|VBN/', \"..\\\\corpora\\\\penntreebank\\treebank\\treebank_3\\\\parsed\\\\mrg\\\\wsj']\"]' returned non-zero exit status 1",
       "output_type": "pyerr",
       "traceback": [
        "\u001b[1;31m---------------------------------------------------------------------------\u001b[0m\n\u001b[1;31mCalledProcessError\u001b[0m                        Traceback (most recent call last)",
        "\u001b[1;32m<ipython-input-11-c081d442dfc6>\u001b[0m in \u001b[0;36m<module>\u001b[1;34m()\u001b[0m\n\u001b[0;32m      8\u001b[0m \u001b[1;33m\u001b[0m\u001b[0m\n\u001b[0;32m      9\u001b[0m \u001b[0mt\u001b[0m \u001b[1;33m=\u001b[0m \u001b[0mTreebank\u001b[0m\u001b[1;33m(\u001b[0m\u001b[0mdir\u001b[0m\u001b[1;33m,\u001b[0m \u001b[1;34m\"/VB|VBD|VBG|VBP|VBZ|VBN/\"\u001b[0m\u001b[1;33m)\u001b[0m\u001b[1;33m\u001b[0m\u001b[0m\n\u001b[1;32m---> 10\u001b[1;33m \u001b[0mt\u001b[0m\u001b[1;33m.\u001b[0m\u001b[0mrun\u001b[0m\u001b[1;33m(\u001b[0m\u001b[1;33m)\u001b[0m\u001b[1;33m\u001b[0m\u001b[0m\n\u001b[0m\u001b[0;32m     11\u001b[0m \u001b[1;33m\u001b[0m\u001b[0m\n\u001b[0;32m     12\u001b[0m \u001b[0mt\u001b[0m \u001b[1;33m=\u001b[0m \u001b[0msorted\u001b[0m\u001b[1;33m(\u001b[0m\u001b[0mt\u001b[0m\u001b[1;33m)\u001b[0m\u001b[1;33m\u001b[0m\u001b[0m\n",
        "\u001b[1;32mC:\\Users\\Sam\\Desktop\\Comp. Methods\\LING144Coursework\\Homework\\Homework 6\\runTregex.pyc\u001b[0m in \u001b[0;36mrun\u001b[1;34m(self)\u001b[0m\n\u001b[0;32m     75\u001b[0m     \u001b[1;32mdef\u001b[0m \u001b[0mrun\u001b[0m\u001b[1;33m(\u001b[0m\u001b[0mself\u001b[0m\u001b[1;33m)\u001b[0m\u001b[1;33m:\u001b[0m\u001b[1;33m\u001b[0m\u001b[0m\n\u001b[0;32m     76\u001b[0m         \u001b[1;32mprint\u001b[0m \u001b[1;34m\"Running tregex...\"\u001b[0m\u001b[1;33m\u001b[0m\u001b[0m\n\u001b[1;32m---> 77\u001b[1;33m         \u001b[0mraw\u001b[0m \u001b[1;33m=\u001b[0m \u001b[0msubprocess\u001b[0m\u001b[1;33m.\u001b[0m\u001b[0mcheck_output\u001b[0m\u001b[1;33m(\u001b[0m\u001b[1;33m[\u001b[0m\u001b[1;34m\"java\"\u001b[0m\u001b[1;33m,\u001b[0m \u001b[1;34m\"-cp\"\u001b[0m\u001b[1;33m,\u001b[0m \u001b[0mself\u001b[0m\u001b[1;33m.\u001b[0m\u001b[0mjavaJars\u001b[0m\u001b[1;33m,\u001b[0m \u001b[0mself\u001b[0m\u001b[1;33m.\u001b[0m\u001b[0mprogramLoc\u001b[0m\u001b[1;33m,\u001b[0m \u001b[0mself\u001b[0m\u001b[1;33m.\u001b[0m\u001b[0mpattern\u001b[0m\u001b[1;33m,\u001b[0m \u001b[0mself\u001b[0m\u001b[1;33m.\u001b[0m\u001b[0mdir\u001b[0m\u001b[1;33m]\u001b[0m\u001b[1;33m,\u001b[0m \u001b[0mstderr\u001b[0m\u001b[1;33m=\u001b[0m\u001b[0msubprocess\u001b[0m\u001b[1;33m.\u001b[0m\u001b[0mSTDOUT\u001b[0m\u001b[1;33m)\u001b[0m\u001b[1;33m\u001b[0m\u001b[0m\n\u001b[0m\u001b[0;32m     78\u001b[0m         \u001b[1;32mprint\u001b[0m \u001b[1;34m\"Processing output...\"\u001b[0m\u001b[1;33m\u001b[0m\u001b[0m\n\u001b[0;32m     79\u001b[0m         \u001b[1;32mfor\u001b[0m \u001b[0mma\u001b[0m \u001b[1;32min\u001b[0m \u001b[0mraw\u001b[0m\u001b[1;33m.\u001b[0m\u001b[0msplit\u001b[0m\u001b[1;33m(\u001b[0m\u001b[1;34m\"\\n\"\u001b[0m\u001b[1;33m)\u001b[0m\u001b[1;33m:\u001b[0m\u001b[1;33m\u001b[0m\u001b[0m\n",
        "\u001b[1;32mC:\\Anaconda\\lib\\subprocess.pyc\u001b[0m in \u001b[0;36mcheck_output\u001b[1;34m(*popenargs, **kwargs)\u001b[0m\n\u001b[0;32m    573\u001b[0m         \u001b[1;32mif\u001b[0m \u001b[0mcmd\u001b[0m \u001b[1;32mis\u001b[0m \u001b[0mNone\u001b[0m\u001b[1;33m:\u001b[0m\u001b[1;33m\u001b[0m\u001b[0m\n\u001b[0;32m    574\u001b[0m             \u001b[0mcmd\u001b[0m \u001b[1;33m=\u001b[0m \u001b[0mpopenargs\u001b[0m\u001b[1;33m[\u001b[0m\u001b[1;36m0\u001b[0m\u001b[1;33m]\u001b[0m\u001b[1;33m\u001b[0m\u001b[0m\n\u001b[1;32m--> 575\u001b[1;33m         \u001b[1;32mraise\u001b[0m \u001b[0mCalledProcessError\u001b[0m\u001b[1;33m(\u001b[0m\u001b[0mretcode\u001b[0m\u001b[1;33m,\u001b[0m \u001b[0mcmd\u001b[0m\u001b[1;33m,\u001b[0m \u001b[0moutput\u001b[0m\u001b[1;33m=\u001b[0m\u001b[0moutput\u001b[0m\u001b[1;33m)\u001b[0m\u001b[1;33m\u001b[0m\u001b[0m\n\u001b[0m\u001b[0;32m    576\u001b[0m     \u001b[1;32mreturn\u001b[0m \u001b[0moutput\u001b[0m\u001b[1;33m\u001b[0m\u001b[0m\n\u001b[0;32m    577\u001b[0m \u001b[1;33m\u001b[0m\u001b[0m\n",
        "\u001b[1;31mCalledProcessError\u001b[0m: Command '['java', '-cp', '\\\\Users\\\\Sam\\\\desktop\\\\comp. methods\\\\computationalMethods\\\\scripts\\\\*:\\\\Users\\\\Sam\\\\Desktop\\\\Comp. Methods\\\\ComputationalMethods\\\\scripts\\\\stanford-tregex-2013-06-20\\\\stanford-tregex.jar', 'edu.ucsc.TregexWrapper.TregexWrapper', '/VB|VBD|VBG|VBP|VBZ|VBN/', \"..\\\\corpora\\\\penntreebank\\treebank\\treebank_3\\\\parsed\\\\mrg\\\\wsj']\"]' returned non-zero exit status 1"
       ]
      },
      {
       "output_type": "stream",
       "stream": "stdout",
       "text": [
        "Running tregex...\n"
       ]
      }
     ],
     "prompt_number": 11
    },
    {
     "cell_type": "markdown",
     "metadata": {},
     "source": [
      "## Problem 3\n",
      "\n",
      "Build a subclass of the `SearchTree` class in `runTregex.py` that contains a method `adjacent(self, elt)`, which checks whether adjacent to `self` is a treelet bearing the `elt` as node label (for non-terminals) or value (in the case of leaves)."
     ]
    },
    {
     "cell_type": "markdown",
     "metadata": {},
     "source": [
      "<center><h2>Annotation Exercises<h2></center>"
     ]
    },
    {
     "cell_type": "markdown",
     "metadata": {},
     "source": [
      "## Problem 4\n",
      "\n",
      "Using `nltk.download` please download the movie reviews corpus. For the first five neg (cv000_29416.txt to cv005_29357.txt) and first five pos reviews (cv000_29590.txt to cv005_29443.txt), please go through and mark up the following. To do this, you will be wrapping bits of text in the tags below.\n",
      "\n",
      "1. Actor names: Mark each actor in the film with `<A />`\n",
      "Please mark each actor every time they are mentioned and include as much of the name as is continguously mentioned at one time.\n",
      "\n",
      "2. Character names: Mark each character in the film with  `<C />`\n",
      "Please mark each character every time they are mentioned and include as much of the name as is continguously mentioned at one time.\n",
      "\n",
      "3. Movie Name `<M />`\n",
      "This is the name of the movie being reviewed.\n",
      "\n",
      "4. Other movie names `<O />`\n",
      "Other movies are sometimes referenced in a review. Mark all instances.\n",
      "\n",
      "In addition, per sentence (i.e., line) please mark the overall purpose of the sentence with respect to the types below.\n",
      "\n",
      "1. Plot description [p]\n",
      "The central purpose is to describe the structure of the movie's plot, not to comment on it.\n",
      "\n",
      "2. Evaluation [e]\n",
      "The central purpose is to provide an opinion or evaluation. This does not have to be about the movie directly.\n",
      "\n",
      "3. Ground for evaluation [g]\n",
      "This category indicates the reasons for an evaluation. \n",
      "\n",
      "4. Other [o]\n",
      "None of the above\n",
      "\n",
      "In cases where a sentence has multiple types, choose the one that seems most central to the sentence. `Please see exampleAnnotation.txt`"
     ]
    },
    {
     "cell_type": "markdown",
     "metadata": {},
     "source": [
      "## Problem 5\n",
      "\n",
      "Now please come up with some distinction (2-5 labels) that you think might be interesting or important in the movie data. Construct a codebook, including examples for each category and a discussion of problem areas. Annotate the 10 movie reviews with your coding scheme. "
     ]
    },
    {
     "cell_type": "markdown",
     "metadata": {},
     "source": [
      "Staff <S /> : The names of people who played non-acting roles in the production of the film. Includes any non-actors who appear in th film's credits. Example: \"<S George Lucas /> does an alright job.\"\n",
      "\n",
      "Command [c] Any statement which commands the reader to do something in order to understand the review. Example: \"Spend just five minutes with the film and you will understand how awful it is.\n",
      "\n",
      "Description [d] Any non-plot description of the film, including setting. If description is part of grounds for an evaluation, use [g] instead]. Example: \"The story takes place in 5th century BC.\"\n",
      "\n",
      "Question [q] Any question statement, whether rhetorical or not. Essentially, any sentence which ends in a question mark. Example: \"What's the big idea?\""
     ]
    }
   ],
   "metadata": {}
  }
 ]
}