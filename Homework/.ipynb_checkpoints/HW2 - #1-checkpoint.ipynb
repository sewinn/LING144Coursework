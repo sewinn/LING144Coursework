{
 "metadata": {
  "name": ""
 },
 "nbformat": 3,
 "nbformat_minor": 0,
 "worksheets": [
  {
   "cells": [
    {
     "cell_type": "code",
     "collapsed": false,
     "input": [
      "#/usr/bin/ env python\n",
      "#-*- coding: utf-8 -*-\n",
      "\n",
      "__author__ = 'sewinn'\n",
      "__email__ = 'sewinn3@gmail.com'\n",
      "\n",
      "#try to delete a variable in wrong scope\n",
      "\n",
      "def fn():\n",
      "    print x\n",
      "    #del x\n",
      "    \"\"\"\n",
      "    This is bad when left uncommented because\n",
      "    this will delete the local variable x before it can be printed.\n",
      "    \"\"\"\n",
      "    #del y[\"a\"]\n",
      "    \"\"\"\n",
      "    However, this is alright when left uncommented as the variable y\n",
      "    exists as an empty dictionary that is also a global variable \n",
      "    and can be deleted within the function or outside of it, \n",
      "    in a global context without returning an error.\n",
      "    \"\"\"\n",
      "    print y\n",
      "if __name__ == \"__main__\":\n",
      "    x = 10\n",
      "    y = {}\n",
      "    y[\"a\"] = \"b\"\n",
      "    fn()"
     ],
     "language": "python",
     "metadata": {},
     "outputs": [
      {
       "output_type": "stream",
       "stream": "stdout",
       "text": [
        "10\n",
        "{'a': 'b'}\n"
       ]
      }
     ],
     "prompt_number": 11
    },
    {
     "cell_type": "code",
     "collapsed": false,
     "input": [
      "#stuff in __main__ module and globals\n",
      "\n",
      "if __name__ == '__main__':\n",
      "    print x        # why does this yield a value?\n",
      "    \"\"\"\n",
      "    Variable x is a global variable and returns the value\n",
      "    of the already declared variable x.\n",
      "    \"\"\"\n",
      "    y[\"c\"] = 12\n",
      "    #z[\"a\"] = \"b\" \n",
      "    \"\"\"\n",
      "    z triggers a name error when y does not as z does not exist\n",
      "    at the time it is called and must be defineded as an empty dict.\n",
      "    (z = {}) before it can be filled with a keys/values.\n",
      "    \"\"\""
     ],
     "language": "python",
     "metadata": {},
     "outputs": [
      {
       "output_type": "stream",
       "stream": "stdout",
       "text": [
        "10\n"
       ]
      }
     ],
     "prompt_number": 12
    },
    {
     "cell_type": "code",
     "collapsed": false,
     "input": [
      "if __name__ == '__main__':\n",
      "    del x\n",
      "    del y\n",
      "    del fn\n",
      "    \"\"\"\n",
      "    It is a good idea to do something like the above del options\n",
      "    as it clears up namespace and memory and allows those variables\n",
      "    to be used for other values.\n",
      "    \"\"\""
     ],
     "language": "python",
     "metadata": {},
     "outputs": [],
     "prompt_number": 13
    },
    {
     "cell_type": "code",
     "collapsed": false,
     "input": [],
     "language": "python",
     "metadata": {},
     "outputs": []
    }
   ],
   "metadata": {}
  }
 ]
}