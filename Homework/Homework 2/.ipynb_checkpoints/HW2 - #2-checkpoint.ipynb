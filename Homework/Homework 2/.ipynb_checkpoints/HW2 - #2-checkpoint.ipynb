{
 "metadata": {
  "name": ""
 },
 "nbformat": 3,
 "nbformat_minor": 0,
 "worksheets": [
  {
   "cells": [
    {
     "cell_type": "code",
     "collapsed": false,
     "input": [
      "#/usr/bin/ env python\n",
      "#-*- coding: utf-8 -*-\n",
      "\n",
      "if __name__ == '__main__':\n",
      "    s1 = s2 = s3 = \"testString\"\n",
      "    l1 = l2 = l3 = list(\"testList\")\n",
      "    l4 = l1[:]\n",
      "    \"\"\"\n",
      "    The lists l1 and l2 end up the same because they are set to each other\n",
      "    and return a list of the letters in the string 'testList'. l4 is different,\n",
      "    however, as it is a copy of the list l4\n",
      "    \"\"\"\n",
      "    l1[0] = 'T'\n",
      "    s1 = s1.capitalize()\n",
      "    print l1, l2, l4\n",
      "    print s1, s2\n",
      "    \n",
      "    del s1,s2,s3,l1,l2,l3,l4"
     ],
     "language": "python",
     "metadata": {},
     "outputs": []
    }
   ],
   "metadata": {}
  }
 ]
}