{
 "metadata": {
  "name": ""
 },
 "nbformat": 3,
 "nbformat_minor": 0,
 "worksheets": [
  {
   "cells": [
    {
     "cell_type": "markdown",
     "metadata": {},
     "source": [
      "##Problem 5"
     ]
    },
    {
     "cell_type": "code",
     "collapsed": false,
     "input": [
      "tokens = [{\"word\": \"A\", \"normed\": \"a\", \"pos\": \"DT\"},\n",
      "          {\"word\": \"final\", \"normed\": \"final\", \"pos\": \"JJ\"},\n",
      "          {\"word\": \"problem\", \"normed\": \"problem\", \"pos\": \"NN\"},\n",
      "          {\"word\": \"would\", \"normed\": \"would\", \"pos\": \"MD\"},\n",
      "          {\"word\": \"be\", \"normed\": \"be\", \"pos\": \"VB\"},\n",
      "          {\"word\": \"nice\", \"normed\": \"nice\", \"pos\": \"JJ\"}]\n",
      "\n",
      "tokensRevSorted = [{'normed': 'would', 'word': 'would', 'pos': 'MD'}, \n",
      "                   {'normed': 'problem', 'word': 'problem', 'pos': 'NN'}, \n",
      "                   {'normed': 'be', 'word': 'be', 'pos': 'VB'}, \n",
      "                   {'normed': 'nice', 'word': 'nice', 'pos': 'JJ'}, \n",
      "                   {'normed': 'a', 'word': 'A', 'pos': 'DT'}, \n",
      "                   {'normed': 'final', 'word': 'final', 'pos': 'JJ'}]"
     ],
     "language": "python",
     "metadata": {},
     "outputs": [],
     "prompt_number": 1
    },
    {
     "cell_type": "code",
     "collapsed": false,
     "input": [
      "vowels = ['a','e','i','o','u']\n",
      "\n",
      "def getNormedValue(item):\n",
      "    \"\"\"\n",
      "    Returns the value of the key[\"normed\"]\n",
      "    \n",
      "    Args:\n",
      "        item: a dictionary\n",
      "        \n",
      "    Returns:\n",
      "        item['normed']: the value of the key \"normed\"\n",
      "        \n",
      "    Raises:\n",
      "        Nothing.\n",
      "    \"\"\"\n",
      "    \n",
      "    return item['normed']\n",
      "\n",
      "def findLastInstance(string):\n",
      "    \"\"\"\n",
      "    Finds the last occurence of a vowel in the string.\n",
      "    \n",
      "    Args:\n",
      "        string: a string\n",
      "    \n",
      "    Returns:\n",
      "        string[i]: index of final vowel\n",
      "        \n",
      "    Raises:\n",
      "        Nothing.\n",
      "    \"\"\"\n",
      "    string = getNormedValue(string)\n",
      "    for v in vowels:\n",
      "        if v in string:\n",
      "            i = string.find(v)\n",
      "            return string[i]\n",
      "        else:\n",
      "            pass\n",
      "            \n",
      "\n",
      "\n",
      "for token in tokens:\n",
      "    print token.items()  \n",
      "    \n",
      "\n",
      "print sorted(tokens, key=findLastInstance, reverse=True) == tokensRevSorted"
     ],
     "language": "python",
     "metadata": {},
     "outputs": [
      {
       "output_type": "stream",
       "stream": "stdout",
       "text": [
        "[('normed', 'a'), ('word', 'A'), ('pos', 'DT')]\n",
        "[('normed', 'final'), ('word', 'final'), ('pos', 'JJ')]\n",
        "[('normed', 'problem'), ('word', 'problem'), ('pos', 'NN')]\n",
        "[('normed', 'would'), ('word', 'would'), ('pos', 'MD')]\n",
        "[('normed', 'be'), ('word', 'be'), ('pos', 'VB')]\n",
        "[('normed', 'nice'), ('word', 'nice'), ('pos', 'JJ')]\n",
        "True\n"
       ]
      }
     ],
     "prompt_number": 8
    },
    {
     "cell_type": "code",
     "collapsed": false,
     "input": [],
     "language": "python",
     "metadata": {},
     "outputs": []
    }
   ],
   "metadata": {}
  }
 ]
}