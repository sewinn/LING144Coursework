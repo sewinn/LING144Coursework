{
 "metadata": {
  "name": ""
 },
 "nbformat": 3,
 "nbformat_minor": 0,
 "worksheets": [
  {
   "cells": [
    {
     "cell_type": "markdown",
     "metadata": {},
     "source": [
      "##Problem 7"
     ]
    },
    {
     "cell_type": "code",
     "collapsed": false,
     "input": [
      "#/usr/bin/ env python\n",
      "#-*- coding: utf-8 -*-\n",
      "\n",
      "\n",
      "import json\n",
      "f = open(\"cmdict7a.json\", \"r\")\n",
      "dictionary = json.load(f)\n",
      "f.close()\n",
      "del f"
     ],
     "language": "python",
     "metadata": {},
     "outputs": [],
     "prompt_number": 1
    },
    {
     "cell_type": "code",
     "collapsed": false,
     "input": [
      "vowels = 'aeiou'\n",
      "\n",
      "def alliteration(w1, w2):\n",
      "    \"\"\"says if w1 and w2 share the same initial consonant\"\"\"\n",
      "    if w1[0] and w2[0] not in vowels:\n",
      "        if w1[0] == w2[0]:\n",
      "            return True\n",
      "        else:\n",
      "            return False\n",
      "\n",
      "def firstVowel(string):\n",
      "    \"\"\" finds the first vowel in the string\"\"\"\n",
      "    for v in vowels:\n",
      "        i = string.find(v)\n",
      "        return string[i]\n",
      "\n",
      "def assonance(w1, w2):\n",
      "    \"\"\"says if w1 and w2 share the same first vowel\"\"\"\n",
      "    if firstVowel(w1) == firstVowel(w2):\n",
      "        return True\n",
      "    else:\n",
      "        return False\n",
      "\n",
      "def rhyme(w1, w2):\n",
      "    \"\"\"says if w1 and w2 rhyme\"\"\"\n",
      "    for pronunc1 in dictionary[w1]:\n",
      "        for pronunc2 in dictionary[w2]:\n",
      "            if pronunc1[-3:-1] == pronunc2[-3:-1]:\n",
      "                return True\n",
      "            else:\n",
      "                return False\n",
      "\n",
      "def doTest(s, f):\n",
      "    for w1,w2,val in s:\n",
      "        ret = f(w1,w2)\n",
      "        if ret == val:\n",
      "            suc = \"PASS\"\n",
      "        else:\n",
      "            suc = \"FAIL\"\n",
      "        print \"%15s(%s, %s)\\t=%s\\t\\t%s\\t%s\\n\" %(f.__name__,w1, w2, ret, val, suc)\n",
      "\n",
      "if __name__ == '__main__':\n",
      "    test = [(\"simple\", \"sample\", True), (\"trip\", \"took\", True),\n",
      "                        (\"trip\", \"rip\", False), (\"trap\", \"sample\", False)]\n",
      "    doTest(test, alliteration)\n",
      "    \n",
      "    test = [(\"simple\", \"sample\", False), (\"trip\", \"took\", False),\n",
      "                        (\"trip\", \"rip\", True), (\"trap\", \"sample\", True)]\n",
      "    doTest(test, assonance)\n",
      "    \n",
      "    test = [(\"simple\", \"sample\", True), (\"trip\", \"rip\", True),\n",
      "                        (\"trust\", \"rip\", False), (\"through\", \"rough\", False)]\n",
      "    doTest(test, rhyme)"
     ],
     "language": "python",
     "metadata": {},
     "outputs": [
      {
       "output_type": "stream",
       "stream": "stdout",
       "text": [
        "   alliteration(simple, sample)\t=True\t\tTrue\tPASS\n",
        "\n",
        "   alliteration(trip, took)\t=True\t\tTrue\tPASS\n",
        "\n",
        "   alliteration(trip, rip)\t=False\t\tFalse\tPASS\n",
        "\n",
        "   alliteration(trap, sample)\t=False\t\tFalse\tPASS\n",
        "\n",
        "      assonance(simple, sample)\t=False\t\tFalse\tPASS\n",
        "\n",
        "      assonance(trip, took)\t=False\t\tFalse\tPASS\n",
        "\n",
        "      assonance(trip, rip)\t=True\t\tTrue\tPASS\n",
        "\n",
        "      assonance(trap, sample)\t=True\t\tTrue\tPASS\n",
        "\n",
        "          rhyme(simple, sample)\t=True\t\tTrue\tPASS\n",
        "\n",
        "          rhyme(trip, rip)\t=True\t\tTrue\tPASS\n",
        "\n",
        "          rhyme(trust, rip)\t=False\t\tFalse\tPASS\n",
        "\n",
        "          rhyme(through, rough)\t=False\t\tFalse\tPASS\n",
        "\n"
       ]
      }
     ],
     "prompt_number": 2
    },
    {
     "cell_type": "code",
     "collapsed": false,
     "input": [],
     "language": "python",
     "metadata": {},
     "outputs": []
    }
   ],
   "metadata": {}
  }
 ]
}