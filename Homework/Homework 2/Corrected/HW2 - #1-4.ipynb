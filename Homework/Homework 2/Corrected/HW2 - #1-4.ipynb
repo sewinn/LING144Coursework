{
 "metadata": {
  "name": ""
 },
 "nbformat": 3,
 "nbformat_minor": 0,
 "worksheets": [
  {
   "cells": [
    {
     "cell_type": "markdown",
     "metadata": {},
     "source": [
      "##Problem 1"
     ]
    },
    {
     "cell_type": "code",
     "collapsed": false,
     "input": [
      "#/usr/bin/ env python\n",
      "#-*- coding: utf-8 -*-\n",
      "\n",
      "__author__ = 'sewinn'\n",
      "__email__ = 'sewinn3@gmail.com'\n",
      "\n",
      "#try to delete a variable in wrong scope\n",
      "\n",
      "def fn():\n",
      "    print x\n",
      "    #del x\n",
      "    \"\"\"\n",
      "    This is bad when left uncommented because\n",
      "    this will delete the local variable x before it can be printed.\n",
      "    \"\"\"\n",
      "    #!!! What local x? There isn't one.\n",
      "    #del y[\"a\"]\n",
      "    \"\"\"\n",
      "    However, this is alright when left uncommented as the variable y\n",
      "    exists as an empty dictionary that is also a global variable \n",
      "    and can be deleted within the function or outside of it, \n",
      "    in a global context without returning an error.\n",
      "    \"\"\"\n",
      "    print y\n",
      "if __name__ == \"__main__\":\n",
      "    x = 10\n",
      "    y = {}\n",
      "    y[\"a\"] = \"b\"\n",
      "    fn()"
     ],
     "language": "python",
     "metadata": {},
     "outputs": [
      {
       "output_type": "stream",
       "stream": "stdout",
       "text": [
        "10\n",
        "{'a': 'b'}\n"
       ]
      }
     ],
     "prompt_number": 1
    },
    {
     "cell_type": "code",
     "collapsed": false,
     "input": [
      "#stuff in __main__ module and globals\n",
      "\n",
      "if __name__ == '__main__':\n",
      "    print x        # why does this yield a value?\n",
      "    \"\"\"\n",
      "    Variable x is a global variable and returns the value\n",
      "    of the already declared variable x.\n",
      "    \"\"\"\n",
      "    y[\"c\"] = 12\n",
      "    #z[\"a\"] = \"b\" \n",
      "    \"\"\"\n",
      "    z triggers a name error when y does not as z does not exist\n",
      "    at the time it is called and must be defined as an empty dict.\n",
      "    (z = {}) before it can be filled with a keys/values.\n",
      "    \"\"\"\n",
      "    #!!! Right."
     ],
     "language": "python",
     "metadata": {},
     "outputs": [
      {
       "output_type": "stream",
       "stream": "stdout",
       "text": [
        "10\n"
       ]
      }
     ],
     "prompt_number": 12
    },
    {
     "cell_type": "code",
     "collapsed": false,
     "input": [
      "if __name__ == '__main__':\n",
      "    del x\n",
      "    del y\n",
      "    del fn\n",
      "    \"\"\"\n",
      "    It is a good idea to do something like the above del options\n",
      "    as it clears up namespace and memory and allows those variables\n",
      "    to be used for other values.\n",
      "    \"\"\"\n",
      "    #!!! Yes. Also, we might end up accidentally overwriting something important if we're not careful."
     ],
     "language": "python",
     "metadata": {},
     "outputs": [],
     "prompt_number": 13
    },
    {
     "cell_type": "markdown",
     "metadata": {},
     "source": [
      "##Problem 2"
     ]
    },
    {
     "cell_type": "code",
     "collapsed": false,
     "input": [
      "#/usr/bin/ env python\n",
      "#-*- coding: utf-8 -*-\n",
      "\n",
      "if __name__ == '__main__':\n",
      "    s1 = s2 = s3 = \"testString\"\n",
      "    l1 = l2 = l3 = list(\"testList\")\n",
      "    l4 = l1[:]\n",
      "    \"\"\"\n",
      "    The lists l1 and l2 end up the same because they are set to equal each other\n",
      "    and return the elements in the list 'testList'. l4 is different, however, \n",
      "    as it is a copy of the list l1 and is an independent of any processes applied to l1.\n",
      "    \"\"\"\n",
      "    #!!! I see what you're getting at, but frame this in terms of memory.\n",
      "    #!!! l1 and l1 are 'equal' in the sense that they point to the same object in memory, etc.\n",
      "    l1[0] = 'T'\n",
      "    s1 = s1.capitalize()\n",
      "    \"\"\"\n",
      "    On the other hand, s1 and s2 are different in spite of each equalling each other\n",
      "    due to the the first letter in the string of s1 being capitalized while the other\n",
      "    is not. For both to print the same value BOTH must have the method capitalize()\n",
      "    called on them.\n",
      "    \"\"\"\n",
      "    print l1, l2, l4\n",
      "    print s1, s2\n",
      "    \n",
      "    del s1,s2,s3,l1,l2,l3,l4"
     ],
     "language": "python",
     "metadata": {},
     "outputs": [
      {
       "output_type": "stream",
       "stream": "stdout",
       "text": [
        "['T', 'e', 's', 't', 'L', 'i', 's', 't'] ['T', 'e', 's', 't', 'L', 'i', 's', 't'] ['t', 'e', 's', 't', 'L', 'i', 's', 't']\n",
        "Teststring testString\n"
       ]
      }
     ],
     "prompt_number": 2
    },
    {
     "cell_type": "markdown",
     "metadata": {},
     "source": [
      "##Problem 3"
     ]
    },
    {
     "cell_type": "code",
     "collapsed": false,
     "input": [
      "def outer(x):\n",
      "    def inner(y):\n",
      "        return x*y\n",
      "    return inner\n",
      "\n",
      "fn = outer(5)\n",
      "print fn(10)\n",
      "del outer\n",
      "#!!! Or, outer(5)(10)"
     ],
     "language": "python",
     "metadata": {},
     "outputs": [
      {
       "output_type": "stream",
       "stream": "stdout",
       "text": [
        "50\n"
       ]
      }
     ],
     "prompt_number": 3
    },
    {
     "cell_type": "code",
     "collapsed": false,
     "input": [
      "def love(x):\n",
      "    verb = \"love\"\n",
      "    def love_inner(y):\n",
      "        #enter your code here\n",
      "        #!!! We probably want the s-less version to be the default case, so that if we run into other pronouns the code still works\n",
      "        #!!! Also, dealing with x should happen in the outer function, because x is love()'s argument.\n",
      "        #!!! If we set verb to verb + \"s\" (depending on x), we only need one return line in the inner function\n",
      "        if x == 'I':\n",
      "            return x + ' ' + verb + ' ' + y\n",
      "        else:\n",
      "            return x + ' ' + verb + 's' + ' ' + y\n",
      "    return love_inner\n",
      "\n",
      "if __name__ == '__main__':\n",
      "    print love(\"I\")(\"Python\") == \"I love Python\"\n",
      "    print love(\"he\")(\"Python\") == \"he loves Python\"\n",
      "    del love"
     ],
     "language": "python",
     "metadata": {},
     "outputs": [
      {
       "output_type": "stream",
       "stream": "stdout",
       "text": [
        "True\n",
        "True\n"
       ]
      }
     ],
     "prompt_number": 9
    },
    {
     "cell_type": "code",
     "collapsed": false,
     "input": [
      "def love(x):\n",
      "    verb = \"love\"\n",
      "    # your code\n",
      "    if x == 'I':\n",
      "        return x + ' ' + verb\n",
      "    else:\n",
      "        return x + ' ' + verb + 's'\n",
      "    #!!! Ah, much closer, although this code doesn't work. I think you're trying to set x = x + ' ' + verb, not return it\n",
      "    #!!! Combining all that stuff in x is conceptually odd. Just make verb into verb + \"s\" and then use \" \".join([x,verb,y]) later \n",
      "    return lambda y: love(x) + ' ' + y#your code here\n",
      "\n",
      "if __name__ == '__main__':\n",
      "    print love(\"I\")(\"Python\") == \"I love Python\"\n",
      "    print love(\"he\")(\"Python\") == \"he loves Python\"\n",
      "    del love"
     ],
     "language": "python",
     "metadata": {},
     "outputs": [
      {
       "ename": "TypeError",
       "evalue": "'str' object is not callable",
       "output_type": "pyerr",
       "traceback": [
        "\u001b[1;31m---------------------------------------------------------------------------\u001b[0m\n\u001b[1;31mTypeError\u001b[0m                                 Traceback (most recent call last)",
        "\u001b[1;32m<ipython-input-10-7c0a661f16c2>\u001b[0m in \u001b[0;36m<module>\u001b[1;34m()\u001b[0m\n\u001b[0;32m      9\u001b[0m \u001b[1;33m\u001b[0m\u001b[0m\n\u001b[0;32m     10\u001b[0m \u001b[1;32mif\u001b[0m \u001b[0m__name__\u001b[0m \u001b[1;33m==\u001b[0m \u001b[1;34m'__main__'\u001b[0m\u001b[1;33m:\u001b[0m\u001b[1;33m\u001b[0m\u001b[0m\n\u001b[1;32m---> 11\u001b[1;33m     \u001b[1;32mprint\u001b[0m \u001b[0mlove\u001b[0m\u001b[1;33m(\u001b[0m\u001b[1;34m\"I\"\u001b[0m\u001b[1;33m)\u001b[0m\u001b[1;33m(\u001b[0m\u001b[1;34m\"Python\"\u001b[0m\u001b[1;33m)\u001b[0m \u001b[1;33m==\u001b[0m \u001b[1;34m\"I love Python\"\u001b[0m\u001b[1;33m\u001b[0m\u001b[0m\n\u001b[0m\u001b[0;32m     12\u001b[0m     \u001b[1;32mprint\u001b[0m \u001b[0mlove\u001b[0m\u001b[1;33m(\u001b[0m\u001b[1;34m\"he\"\u001b[0m\u001b[1;33m)\u001b[0m\u001b[1;33m(\u001b[0m\u001b[1;34m\"Python\"\u001b[0m\u001b[1;33m)\u001b[0m \u001b[1;33m==\u001b[0m \u001b[1;34m\"he loves Python\"\u001b[0m\u001b[1;33m\u001b[0m\u001b[0m\n\u001b[0;32m     13\u001b[0m     \u001b[1;32mdel\u001b[0m \u001b[0mlove\u001b[0m\u001b[1;33m\u001b[0m\u001b[0m\n",
        "\u001b[1;31mTypeError\u001b[0m: 'str' object is not callable"
       ]
      }
     ],
     "prompt_number": 10
    },
    {
     "cell_type": "markdown",
     "metadata": {},
     "source": [
      "##Problem 4"
     ]
    },
    {
     "cell_type": "code",
     "collapsed": false,
     "input": [
      "#closure variables\n",
      "def outer():\n",
      "    a = 1\n",
      "    # creating a lexically nested function bar\n",
      "    def inner():\n",
      "        # a is visible from outer's locals\n",
      "        return a\n",
      "    b = 2 # b is here for an example later on\n",
      "    return inner\n",
      "\"\"\"\n",
      "def outer()() takes the first argument and sets it equal to 1 and feeds its second argument into the child function inner(),\n",
      "which in turn simply return this value. The parent function outer() however returns the result of inner(), \n",
      "which is simply to return the value stored in the second argument. No error occurs when the functiions are compiled as both\n",
      "arguments are given values within the function, though not globally.\n",
      "\"\"\"\n",
      " \n",
      "# inner_nonlexical will be called from within\n",
      "#  outer_nonlexical but it is not lexically nested\n",
      "def inner_nonlexical():\n",
      "    return a # a is not visible\n",
      "\"\"\"\n",
      "def inner_nonlexical() returns nothing on its own as a is not a global variable and only exists within the functions.\n",
      "However, as a is not a global variable and the function does not define a in the local context, it returns an error.\n",
      "\"\"\"\n",
      "\n",
      "def outer_nonlexical():\n",
      "    a = 1\n",
      "    inner = inner_nonlexical\n",
      "    b = 2 # b is here for an example later on\n",
      "    return inner_nonlexical\n",
      "\"\"\"\n",
      "outer_nonlexical()() requires two parens for the same reason that outer()() did - the first argument is assigned the value 1\n",
      "and the second argument stores the value 2. This second argument is fed into the inner_nonlexical() function, but this second\n",
      "function does not define this second variable and simply returns it, resulting in another error.\n",
      "\"\"\"\n",
      "#!!! Good.\n",
      "outer()()\n",
      "outer_nonlexical()()\n",
      "\n",
      "del outer, outer_nonlexical "
     ],
     "language": "python",
     "metadata": {},
     "outputs": [
      {
       "ename": "NameError",
       "evalue": "global name 'a' is not defined",
       "output_type": "pyerr",
       "traceback": [
        "\u001b[1;31m---------------------------------------------------------------------------\u001b[0m\n\u001b[1;31mNameError\u001b[0m                                 Traceback (most recent call last)",
        "\u001b[1;32m<ipython-input-11-5d61988476f1>\u001b[0m in \u001b[0;36m<module>\u001b[1;34m()\u001b[0m\n\u001b[0;32m     33\u001b[0m \"\"\"\n\u001b[0;32m     34\u001b[0m \u001b[0mouter\u001b[0m\u001b[1;33m(\u001b[0m\u001b[1;33m)\u001b[0m\u001b[1;33m(\u001b[0m\u001b[1;33m)\u001b[0m\u001b[1;33m\u001b[0m\u001b[0m\n\u001b[1;32m---> 35\u001b[1;33m \u001b[0mouter_nonlexical\u001b[0m\u001b[1;33m(\u001b[0m\u001b[1;33m)\u001b[0m\u001b[1;33m(\u001b[0m\u001b[1;33m)\u001b[0m\u001b[1;33m\u001b[0m\u001b[0m\n\u001b[0m\u001b[0;32m     36\u001b[0m \u001b[1;33m\u001b[0m\u001b[0m\n\u001b[0;32m     37\u001b[0m \u001b[1;32mdel\u001b[0m \u001b[0mouter\u001b[0m\u001b[1;33m,\u001b[0m \u001b[0mouter_nonlexical\u001b[0m\u001b[1;33m\u001b[0m\u001b[0m\n",
        "\u001b[1;32m<ipython-input-11-5d61988476f1>\u001b[0m in \u001b[0;36minner_nonlexical\u001b[1;34m()\u001b[0m\n\u001b[0;32m     17\u001b[0m \u001b[1;31m#  outer_nonlexical but it is not lexically nested\u001b[0m\u001b[1;33m\u001b[0m\u001b[1;33m\u001b[0m\u001b[0m\n\u001b[0;32m     18\u001b[0m \u001b[1;32mdef\u001b[0m \u001b[0minner_nonlexical\u001b[0m\u001b[1;33m(\u001b[0m\u001b[1;33m)\u001b[0m\u001b[1;33m:\u001b[0m\u001b[1;33m\u001b[0m\u001b[0m\n\u001b[1;32m---> 19\u001b[1;33m     \u001b[1;32mreturn\u001b[0m \u001b[0ma\u001b[0m \u001b[1;31m# a is not visible\u001b[0m\u001b[1;33m\u001b[0m\u001b[0m\n\u001b[0m\u001b[0;32m     20\u001b[0m \"\"\"\n\u001b[0;32m     21\u001b[0m \u001b[1;32mdef\u001b[0m \u001b[0minner_nonlexical\u001b[0m\u001b[1;33m(\u001b[0m\u001b[1;33m)\u001b[0m \u001b[0mreturns\u001b[0m \u001b[0mnothing\u001b[0m \u001b[0mon\u001b[0m \u001b[0mits\u001b[0m \u001b[0mown\u001b[0m \u001b[1;32mas\u001b[0m \u001b[0ma\u001b[0m \u001b[1;32mis\u001b[0m \u001b[1;32mnot\u001b[0m \u001b[0ma\u001b[0m \u001b[1;32mglobal\u001b[0m \u001b[0mvariable\u001b[0m \u001b[1;32mand\u001b[0m \u001b[0monly\u001b[0m \u001b[0mexists\u001b[0m \u001b[0mwithin\u001b[0m \u001b[0mthe\u001b[0m \u001b[0mfunctions\u001b[0m\u001b[1;33m.\u001b[0m\u001b[1;33m\u001b[0m\u001b[0m\n",
        "\u001b[1;31mNameError\u001b[0m: global name 'a' is not defined"
       ]
      }
     ],
     "prompt_number": 11
    },
    {
     "cell_type": "code",
     "collapsed": false,
     "input": [],
     "language": "python",
     "metadata": {},
     "outputs": []
    }
   ],
   "metadata": {}
  }
 ]
}