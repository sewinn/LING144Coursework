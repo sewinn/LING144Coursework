{
 "metadata": {
  "name": ""
 },
 "nbformat": 3,
 "nbformat_minor": 0,
 "worksheets": [
  {
   "cells": [
    {
     "cell_type": "code",
     "collapsed": false,
     "input": [
      "import json\n",
      "import re\n",
      "\n",
      "#open file and read in contents as one string\n",
      "f = open ('./healthcare.txt', 'r')\n",
      "healthcare = f.read()\n",
      "\n",
      "#use split\n",
      "sentenceBoundaries = re.compile(r'((?<=[\\.\"\\?!])\\s(?=[A-Z]))')\n",
      "lines = re.split(sentenceBoundaries, healthcare)\n",
      "for line in lines:\n",
      "    print line"
     ],
     "language": "python",
     "metadata": {},
     "outputs": [
      {
       "output_type": "stream",
       "stream": "stdout",
       "text": [
        "As the pitchman for his landmark healthcare law, President Obama promised to make buying insurance as easy as buying a plane ticket online or a \"TV on Amazon.\"\n",
        " \n",
        "It would be simple, he said.\n",
        " \n",
        "If there were problems, the president predicted, they would be \"glitches.\"\n",
        " \n",
        "And he said, \"If you like the plan you have, you can keep it.\"\n",
        " \n",
        "Such claims have come back to haunt the president and his allies less than a month into the launch of the online insurance marketplaces at the heart of his healthcare legislation.\n",
        " \n",
        "With the federal website hobbled by bad design and thousands of policyholders receiving cancellation notices, Obama's promises are not being met \u2014 prompting charges of deception from some Republicans and concessions from some allies that elements of the law were oversold.\n",
        " \n",
        "The fallout is only the latest chapter in this White House's three-year struggle to sell the public on the Affordable Care Act, which could come to define the president's legacy.\n",
        " \n",
        "Since signing it into law, the president has variously defended it, promoted it, simplified it and hyped it.\n",
        " \n",
        "But polling shows he has never fully sold, nor educated, the public on the vast new government healthcare program.\n",
        " \n",
        "Publicly, the White House continued Tuesday to defend the president's pre-launch salesmanship. \"The purpose here wasn't to do anything beyond encourage people to make themselves aware of the options available to them,\"\n",
        " \n",
        "White House Press Secretary Jay Carney said.\n",
        " \n",
        "Behind closed doors, some officials who worked on the rollout say they wish they'd left themselves a little wiggle room.\n",
        " \n",
        "They could have done more to play up ways to sign up other than through the website, such as the call centers, said one official, requesting anonymity to discuss the planning process.\n",
        " \n",
        "After taking heat from allies for not finding a crisp way to explain the complex law, the White House tried to boil it down to its simplest elements, the official said, and some nuance was inevitably lost.\n",
        " \n",
        "The first administration official to testify before Congress on the matter apologized Tuesday, saying, \"the website has not worked as well as it should.\" \"This initial experience has not lived up to our expectations or the expectations of the American people, and it is not acceptable,\"\n",
        " \n",
        "Marilyn Tavenner, the head of the federal Centers for Medicare and Medicaid Services, told the House Ways and Means Committee.\n",
        " \n",
        "Tavenner's agency oversaw the development of the site, intended to link consumers with affordable private health insurance plans that meet standards outlined in the 2010 law.\n",
        " \n",
        "Tavenner vowed that the site would be running smoothly by the end of November, in time for consumers to enroll before the new year.\n"
       ]
      }
     ],
     "prompt_number": 10
    },
    {
     "cell_type": "code",
     "collapsed": false,
     "input": [],
     "language": "python",
     "metadata": {},
     "outputs": []
    }
   ],
   "metadata": {}
  }
 ]
}