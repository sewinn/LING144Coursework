{
 "metadata": {
  "name": ""
 },
 "nbformat": 3,
 "nbformat_minor": 0,
 "worksheets": [
  {
   "cells": [
    {
     "cell_type": "markdown",
     "metadata": {},
     "source": [
      "## Problem 4\n",
      "\n",
      "Write function `addHTMLTag` so that it wraps every instance of `word` in `string` with tag `tag`"
     ]
    },
    {
     "cell_type": "code",
     "collapsed": false,
     "input": [
      "__author__ = 'sewinn', 'shmbianc'\n",
      "__email__ = \"sewinn@ucsc.edu\", \"shmbianc@ucsc.edu\"\n",
      "\n",
      "import re\n",
      "from IPython.display import HTML\n",
      "\n",
      "def addHTMLbold(word, string, tag):\n",
      "    \"\"\"this looks for word in string, and wraps all occurrences with tag and end_tag\"\"\"\n",
      "    wordRE = re.compile(word)\n",
      "    for m in wordRE.finditer(string):\n",
      "        found = string[m.start():m.end()]\n",
      "        \n",
      "        #As format doesn't allow for its internal variables to be assigned to combinations of strings and other variables, the proper combinations are set as external variables here.\n",
      "        openedTag = \"<\" + tag + \">\"\n",
      "        closedTag = \"</\" + tag + \">\"\n",
      "        \n",
      "        #These variables are created to form a new variable, which is the input word with the proper open and close HTML tags as input on either side.\n",
      "        taggedFound = \"{opentag}{found}{closetag}\".format(opentag = openedTag, found=found, closetag = closedTag)\n",
      "        \n",
      "        #Each instance of the input word which has a word boundary on either side is replaced with the input word with surrounding HTML tags on either side.\n",
      "        isolatedFound = r'\\b' + found + r'\\b'\n",
      "        output = re.sub(isolatedFound, taggedFound, string)    \n",
      "    \n",
      "    return output\n",
      "\n",
      "mod = addHTMLbold(\"test\", \"This is a test testy to see what testy retests test out\", \"em\")\n",
      "HTML(mod)\n",
      "mod2 = addHTMLbold(\"is\", mod, \"strong\")\n",
      "HTML(mod2)"
     ],
     "language": "python",
     "metadata": {},
     "outputs": [
      {
       "html": [
        "This <strong>is</strong> a <em>test</em> testy to see what testy retests <em>test</em> out"
       ],
       "metadata": {},
       "output_type": "pyout",
       "prompt_number": 2,
       "text": [
        "<IPython.core.display.HTML at 0x61678d0>"
       ]
      }
     ],
     "prompt_number": 2
    },
    {
     "cell_type": "code",
     "collapsed": false,
     "input": [],
     "language": "python",
     "metadata": {},
     "outputs": []
    }
   ],
   "metadata": {}
  }
 ]
}