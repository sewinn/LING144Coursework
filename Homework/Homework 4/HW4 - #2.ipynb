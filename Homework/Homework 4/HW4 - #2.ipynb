{
 "metadata": {
  "name": ""
 },
 "nbformat": 3,
 "nbformat_minor": 0,
 "worksheets": [
  {
   "cells": [
    {
     "cell_type": "markdown",
     "metadata": {},
     "source": [
      "##Problem 2\n",
      "\n",
      "In this directory, I have provided the file `romanticism.txt`. Please open it and read the entire contents into one string. You can use the `read()` method of the file object to do that. \n",
      "\n",
      "Now the format of the file is like this:\n",
      "\n",
      "line 1: a title line, containing a title and then some citational material and/or other stuff\n",
      "\n",
      "line 2: blank \n",
      "\n",
      "line 3: the url of the resource\n",
      "\n",
      "line 4: blank\n",
      "\n",
      "line 5: like line 1\n",
      "\n",
      "line 6: like line 2\n",
      "\n",
      "etc.\n",
      "\n",
      "Your task here is to use regular expressions to make these into proper HTML links. In html, links use the **anchor** tag, like so:\n",
      "\n",
      "    <a href=\"url\" target=\"BLANK\">link text</a>\n",
      "\n",
      "Please save your output in the string `output`. As you can see in the following line, I'm using that name to display the output as HTML using the `HTML` function from `IPython.display`. You obviously can change this code to your liking. I'm just trying to get things to print in a way that is easy to read. [More here](http://nbviewer.ipython.org/urls/raw.github.com/ipython/ipython/1.x/examples/notebooks/Part%205%20-%20Rich%20Display%20System.ipynb)"
     ]
    },
    {
     "cell_type": "code",
     "collapsed": false,
     "input": [
      "__author__ = 'sewinn', 'shmbianc'\n",
      "__email__ = \"sewinn@ucsc.edu\", \"shmbianc@ucsc.edu\"\n",
      "\n",
      "import re\n",
      "#open and read file\n",
      "fb = open(\"./romanticism.txt\", \"r\")\n",
      "fb.close\n",
      "\n",
      "#grab (?P<urls>\\w+://\\w.+) <-- group of all urls\n",
      "\n",
      "fRE = re.compile(r'(\\w.+)(,\\w*.+| \\d.+|\\(\\w.+\\)|: \\w.+|\\(\\w.[^:])\\n\\n(?P<url>\\w.+://\\w.+)') #grabs and groups sitenames, citations, and urls\n",
      "output =  fRE.sub(r'<a href=\"\\url\" target=\"BLANK\">\\1</a> \\2', fb.read())"
     ],
     "language": "python",
     "metadata": {},
     "outputs": [],
     "prompt_number": 7
    },
    {
     "cell_type": "code",
     "collapsed": false,
     "input": [
      "from IPython.display import HTML\n",
      "HTML(output)"
     ],
     "language": "python",
     "metadata": {},
     "outputs": [
      {
       "html": [
        "<a href=\"\\url\" target=\"BLANK\">Romantic Chronology (UC Santa Barbara & Miami U.</a> , Ohio):\n",
        "\n",
        "<a href=\"\\url\" target=\"BLANK\">British Women Romantic Poets,</a>  1789-1832 (U of Cal. Davis):\n",
        "\n",
        "<a href=\"\\url\" target=\"BLANK\">The European Mirror of the Romantic Chronology (Queen's U.</a> , Belfast):\n",
        "\n",
        "<a href=\"\\url\" target=\"BLANK\">The Modern English Collection at the Electronic Center </a> (UVa)\n",
        "\n",
        "<a href=\"\\url\" target=\"BLANK\">British Poetry 1780-1910: A Hypermedia Archive of Scholarly Editions (UVA), co-editor</a> , Jerome McGann:\n",
        "\n",
        "<a href=\"\\url\" target=\"BLANK\">Blake Archive (hosted at UVA), directed by Morris Eaves, Robert N. Essick</a> , and Joseph Viscomi:\n",
        "\n",
        "The UPenn Gopher (with its substantial non-canonical Romantics holdings):\n",
        "\n",
        "gopher://dept.english.upenn.edu:70/11/Courses\n",
        "\n",
        "<a href=\"\\url\" target=\"BLANK\">also known as PEAL</a> : Penn English Archive and Library\n",
        "\n",
        "<a href=\"\\url\" target=\"BLANK\">Romantic Links and Home Pages (Univ.of Penna.)</a> , Michael Gamer\n",
        "\n",
        "The Frankenstein Project (U. Penn):\n",
        "\n",
        "http://gopher.upenn.edu/pennprintout/html/v11/3/creature.html\n",
        "\n",
        "<a href=\"\\url\" target=\"BLANK\">Romantic Circles Project (Second-Generation Romantics and Their Circle), major participants, Donald Reiman, Neil Fraistat</a> , Carl Stahmer:\n",
        "\n",
        "<a href=\"\\url\" target=\"BLANK\">Bluestocking Archive (U. Mass.)</a> , Elizabeth Fay:\n",
        "\n",
        "<a href=\"\\url\" target=\"BLANK\">Romantic Women Writers Page (Nottingham U., U.K.)</a> , Adriana Craciun:\n",
        "\n",
        "<a href=\"\\url\" target=\"BLANK\">Romanticism on the Net (Oxford U.</a> , England):\n",
        "\n",
        "Romanticsm CD-ROM (U. of Alberta):\n",
        "\n",
        "http://www.ualberta.ca/~dmiall/ROMCDINF.HTM\n",
        "\n",
        "<a href=\"\\url\" target=\"BLANK\">Romanticism at UT Austin</a> , Computer Writing and Research Lab of UT Austin directed by Daniel Anderson:\n",
        "\n",
        "<a href=\"\\url\" target=\"BLANK\">Women of the Romantic Period (UT Austin)</a> , Daniel Anderson and Morri Safran:\n",
        "\n",
        "<a href=\"\\url\" target=\"BLANK\">New Books in</a>  19th-Century Studies:\n",
        "\n",
        "<a href=\"\\url\" target=\"BLANK\">The Keats-Shelley Journal Home Page</a> , ed. Steven E. Jones\n",
        "\n",
        "<a href=\"\\url\" target=\"BLANK\">19th Century British and Irish Authors</a> , Mitsuharu Matsuoka (Nagoya University):\n",
        "\n",
        "<a href=\"\\url\" target=\"BLANK\">Victorian Web Sites</a> , Mitsuharu Matsuoka (Nagoya University):\n",
        "\n"
       ],
       "metadata": {},
       "output_type": "pyout",
       "prompt_number": 10,
       "text": [
        "<IPython.core.display.HTML at 0x60bf208>"
       ]
      }
     ],
     "prompt_number": 10
    },
    {
     "cell_type": "code",
     "collapsed": false,
     "input": [],
     "language": "python",
     "metadata": {},
     "outputs": []
    }
   ],
   "metadata": {}
  }
 ]
}