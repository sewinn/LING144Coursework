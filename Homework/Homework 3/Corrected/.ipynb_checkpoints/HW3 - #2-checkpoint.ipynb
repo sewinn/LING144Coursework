{
 "metadata": {
  "name": ""
 },
 "nbformat": 3,
 "nbformat_minor": 0,
 "worksheets": [
  {
   "cells": [
    {
     "cell_type": "markdown",
     "metadata": {},
     "source": [
      "##Problem 2\n",
      "\n",
      "Now, write another function that loops through the tokens and, for each word in turn, counts the number of times pairs of phonemes appear. Specifically, if a line was \"how much wood could a wood chuck chuck if a woodchuck could chuck wood\"\n",
      "\n",
      "with pronunciations\n",
      "\n",
      "\n",
      "[u'HH', u'AW'] [u'M', u'AH', u'CH'] [u'W', u'UH', u'D'] [u'K', u'UH', u'D'] [u'AH'] [u'W', u'UH', u'D'] [u'CH', u'AH', u'K'] [u'CH', u'AH', u'K'] [u'IH', u'F'] [u'AH'] [u'W', u'UH', u'D', u'CH', u'AH', u'K'] [u'K', u'UH', u'D'] [u'CH', u'AH', u'K'] [u'W', u'UH', u'D']\n",
      "\n",
      "we want a dict of dicts that ends up like this:\n",
      "\n",
      "{u'AH': {u'CH': 1, u'K': 4},\n",
      " u'CH': {u'AH': 4},\n",
      " u'D': {u'CH': 1},\n",
      " u'HH': {u'AW': 1},\n",
      " u'IH': {u'F': 1},\n",
      " u'K': {u'UH': 2},\n",
      " u'M': {u'AH': 1},\n",
      " u'UH': {u'D': 6},\n",
      " u'W': {u'UH': 4}}"
     ]
    },
    {
     "cell_type": "code",
     "collapsed": false,
     "input": [
      "#/usr/bin/ env python\n",
      "#-*- coding: utf-8 -*-\n",
      "\n",
      "__author__ = 'sewinn', 'shmbianc'\n",
      "__email__ = \"sewinn@ucsc.edu\", \"shmbianc@ucsc.edu\"\n",
      "\n",
      "def freqMaker(pronSent):\n",
      "    \"\"\"\n",
      "    This function returns a dictionary of the number of times phonemes appear as a pair in a word.\n",
      "    \n",
      "    Args:\n",
      "        pronSent: a list of ARPABET pronunciations\n",
      "    \n",
      "    Returns:\n",
      "        phonDict: a dictionary of the number of times a pair of phonemes appears.\n",
      "    \n",
      "    Raises:\n",
      "        Nothing.\n",
      "    \n",
      "    \"\"\"\n",
      "    phonDict = {} #Initializes a dictionary which will store each (non-wordfinal) phoneme as a key, and phoneme frequency dictionaries as their values.\n",
      "    for word in pronSent:\n",
      "        for i in range(0,len(word) - 1): #Prevents the last phoneme in a word from being checked, as they have no phoneme to the right of them.\n",
      "            if word[i] not in phonDict: #Adds a dictionary listing for phonemes if they are not already in them, and sets their initial count value to 1.\n",
      "                phonDict[word[i]] = {}\n",
      "                phonDict[word[i]][word[i + 1]] = 1\n",
      "                #!!! The above can be combined into one line: phonDict[word[i]] = {word[i+1]: 1}\n",
      "                #!!! Also, give word[i] and word[i+1] variable names at the get-go\n",
      "                #!!! Compare the readability of the above to phonDict[firstPhon] = {nextPhon: 1}\n",
      "            elif word[i] in phonDict: \n",
      "                nextPhon = word[i + 1]\n",
      "                if nextPhon in phonDict[word[i]]: #If the phoneme already is in the dictionary, its count goes up by one.\n",
      "                    phonDict[word[i]][nextPhon] += 1\n",
      "                else: #If the word is in the dictionary and for some reason it has no value, its value is set to 1.\n",
      "                    phonDict[word[i]][nextPhon] = 1\n",
      "    return phonDict\n",
      "\n",
      "test = [[u'HH', u'AW'], [u'M', u'AH', u'CH'], [u'W', u'UH', u'D'], [u'K', u'UH', u'D'], [u'AH'], [u'W', u'UH', u'D'], [u'CH', u'AH', u'K'], [u'CH', u'AH', u'K'], [u'IH', u'F'], [u'AH'], [u'W', u'UH', u'D', u'CH', u'AH', u'K'], [u'K', u'UH', u'D'], [u'CH', u'AH', u'K'], [u'W', u'UH', u'D']]\n",
      "frequencies = freqMaker(test)"
     ],
     "language": "python",
     "metadata": {},
     "outputs": [],
     "prompt_number": 6
    },
    {
     "cell_type": "code",
     "collapsed": false,
     "input": [],
     "language": "python",
     "metadata": {},
     "outputs": []
    }
   ],
   "metadata": {}
  }
 ]
}