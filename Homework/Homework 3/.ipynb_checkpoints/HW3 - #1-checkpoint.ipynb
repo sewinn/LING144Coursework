{
 "metadata": {
  "name": ""
 },
 "nbformat": 3,
 "nbformat_minor": 0,
 "worksheets": [
  {
   "cells": [
    {
     "cell_type": "markdown",
     "metadata": {},
     "source": [
      "###Problem 1\n",
      "\n",
      "Your job in the first problem is simply to load the file, and tokenize it. The relevant files to choose are in the data/SampleTexts directory. There are two ways of saying where that is. There is the short or relative path, which is given from where this notebook is (homework/HW3). In such paths, to go up, one uses two periods. So, \"..\" means the parent of HW3, which is homework, and \"../..\" is the github repo root.\n",
      "\n",
      "Use relative paths to open one of the files in SampleTexts. Write another function that reads through the text, line by line, and tokenizes it. Since we are going for phonemes, you can ignore any tokens not in the CMU dictionary, including punctuation. Your tokenizer should examine the CMU dictionary and return a list of tokens, where each token is the CMU pronunciation for that word. If the word has multiple pronunciations, choose the first. If the word isn't in the dictionary, just ignore it."
     ]
    },
    {
     "cell_type": "code",
     "collapsed": false,
     "input": [
      "__author__ = 'sewinn', 'shmbianc'\n",
      "__email__ = \"sewinn@ucsc.edu\", \"shmbianc@ucsc.edu\"\n",
      "\n",
      "\n",
      "import json\n",
      "import re\n",
      "\n",
      "fb = open(\"../data/SampleTexts/mountainhouses.txt\", \"r\")\n",
      "fb.close\n",
      "fd = open(\"../cmdict7a.json\", \"r\")\n",
      "fd.close\n",
      "dictionary = json.load(fd)\n",
      "\n",
      "def punctRemoval(sent):\n",
      "    '''This function removes any punctuation from the beginning or end of words in a given input, and also returns them as entirely lowercase.'''\n",
      "    noPunct = [] #Makes an empty list to store words after punctuation had been removed\n",
      "    for line in sent:\n",
      "        noPunctWord = re.findall(\"[\\w']+\", line.lower()) #regular expression returns only words (with and without contractions) and numbers, and \n",
      "        noPunct += noPunctWord\n",
      "    return noPunct\n",
      "                                      \n",
      "\n",
      "\n",
      "def tokenizer(fyle):\n",
      "    '''This function goes through and removes all punctuation from each line of the given file, \n",
      "    with the use of punctRemoval, and then returns the dictionary pronunciation of each word\n",
      "    of each line.'''\n",
      "    wordList = [] #Makes a master list, to be used to store the lists of phonemes for each word.\n",
      "    noPunctList = punctRemoval(fyle)\n",
      "    for word in noPunctList:\n",
      "        if word in dictionary: #Ignores any words which are't in the dictionary file.\n",
      "            defn = dictionary[word]\n",
      "            wordList.append(defn[0]) #Returns only the first pronunciation given for the word.\n",
      "                \n",
      "    return wordList\n",
      "\n",
      "tokenizer(fb)"
     ],
     "language": "python",
     "metadata": {},
     "outputs": [],
     "prompt_number": 2
    },
    {
     "cell_type": "code",
     "collapsed": false,
     "input": [],
     "language": "python",
     "metadata": {},
     "outputs": []
    }
   ],
   "metadata": {}
  }
 ]
}