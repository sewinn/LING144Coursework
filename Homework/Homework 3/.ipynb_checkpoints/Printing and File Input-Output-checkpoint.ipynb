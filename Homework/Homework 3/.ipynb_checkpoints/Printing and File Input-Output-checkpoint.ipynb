{
 "metadata": {
  "name": ""
 },
 "nbformat": 3,
 "nbformat_minor": 0,
 "worksheets": [
  {
   "cells": [
    {
     "cell_type": "markdown",
     "metadata": {},
     "source": [
      "## Printing\n",
      "\n",
      "* print command\n",
      "* printing/storing with format method\n",
      "* printing/storing with % operator\n",
      "* printing/storing with jinja2 templates"
     ]
    },
    {
     "cell_type": "code",
     "collapsed": false,
     "input": [
      "print \"Hello,\",\n",
      "print 25\n"
     ],
     "language": "python",
     "metadata": {},
     "outputs": [
      {
       "output_type": "stream",
       "stream": "stdout",
       "text": [
        "Hello, 25\n"
       ]
      }
     ],
     "prompt_number": 1
    },
    {
     "cell_type": "code",
     "collapsed": false,
     "input": [
      "print \"{ham} is {ham}\".format(spam=2, ham=4)\n",
      "print \"{0:10d}{1:10d}\".format(453, 452543)\n",
      "print \"{} is {}\".format(243432, 4)\n",
      "print \"\"\"\n",
      "There was a {noun} that visited\n",
      "a {noun} very {adverb}.\"\"\".format(noun=\"dog\", adverb=\"quickly\")"
     ],
     "language": "python",
     "metadata": {},
     "outputs": [
      {
       "output_type": "stream",
       "stream": "stdout",
       "text": [
        "4 is 4\n",
        "       453    452543\n",
        "243432 is 4\n",
        "\n",
        "There was a dog that visited\n",
        "a dog very quickly.\n"
       ]
      }
     ],
     "prompt_number": 5
    },
    {
     "cell_type": "code",
     "collapsed": false,
     "input": [
      "# printf(\"format\", value1, value2, value3, ...)\n",
      "print \"This is a string: %s\" % (\"hello\")\n",
      "print \"This is a integer: %10d\" % (43)\n",
      "print \"This is a float: %10.10f\" % (43)\n",
      "print \"\"\"'%s', said the man, chopping %d logs.\n",
      "As he chopped those %d logs, he sighed.\"\"\" % (\"hello\".capitalize(), 43, 43) "
     ],
     "language": "python",
     "metadata": {},
     "outputs": [
      {
       "output_type": "stream",
       "stream": "stdout",
       "text": [
        "This is a string: hello\n",
        "This is a integer:         43\n",
        "This is a float: 43.0000000000\n",
        "'Hello', said the man, chopping 43 logs.\n",
        "As he chopped those 43 logs, he sighed.\n"
       ]
      }
     ],
     "prompt_number": 44
    },
    {
     "cell_type": "markdown",
     "metadata": {},
     "source": [
      "## File I/O\n",
      "\n",
      "* opening files\n",
      "* closing files\n",
      "* reading from files, by line"
     ]
    },
    {
     "cell_type": "code",
     "collapsed": false,
     "input": [
      "%%bash\n",
      "cat test.csv"
     ],
     "language": "python",
     "metadata": {},
     "outputs": [
      {
       "output_type": "stream",
       "stream": "stdout",
       "text": [
        "Name,Grade,Age\n",
        "fdkjfsl,23,14\n",
        "dsklfjdl,100,2000\n",
        "dsfjldskfj,32,32\n"
       ]
      }
     ],
     "prompt_number": 48
    },
    {
     "cell_type": "code",
     "collapsed": false,
     "input": [
      "f = open(\"test.csv\", \"r\")\n",
      "fb = open(\"filename2\", \"a\")\n",
      "fb.write(\"test\\n\")\n",
      "fb.close()\n",
      "#for line in f.readlines():\n",
      "#    line.rstrip(\"\\n\")\n",
      "#lines = f.readlines()\n",
      "#for li in lines[1:]:\n",
      "#    stuff = li.split(\",\")\n",
      "#    print int(stuff[1]) + 3\n",
      "#print lines[-1]\n",
      "#li = f.readline()\n",
      "#li = li.rstrip()\n",
      "#stuff = li.split(\",\")\n",
      "#print stuff[-1], stuff[0]\n",
      "#stuff[-1]"
     ],
     "language": "python",
     "metadata": {},
     "outputs": [],
     "prompt_number": 80
    },
    {
     "cell_type": "code",
     "collapsed": false,
     "input": [
      "%%bash\n",
      "cat filename2"
     ],
     "language": "python",
     "metadata": {},
     "outputs": [
      {
       "output_type": "stream",
       "stream": "stdout",
       "text": [
        "testtesttest\n",
        "test\n",
        "test\n",
        "test\n"
       ]
      }
     ],
     "prompt_number": 81
    },
    {
     "cell_type": "markdown",
     "metadata": {},
     "source": [
      "File types: \n",
      "\n",
      "* plain text\n",
      "* csv\n",
      "* json\n",
      "* pickle"
     ]
    },
    {
     "cell_type": "code",
     "collapsed": false,
     "input": [
      "#class csv.DictReader(csvfile, fieldnames=None, restkey=None, restval=None, dialect='excel', *args, **kwds)\u00b6\n",
      "#class csv.DictWriter(csvfile, fieldnames, restval='', extrasaction='raise', dialect='excel', *args, **kwds)\u00b6\n",
      "import csv\n",
      "f = open(\"test.csv\", \"r\")"
     ],
     "language": "python",
     "metadata": {},
     "outputs": [],
     "prompt_number": 89
    },
    {
     "cell_type": "code",
     "collapsed": false,
     "input": [
      "f.seek(0)\n",
      "header = f.readline()\n",
      "header=header.rstrip()\n",
      "headerInfo = header.split(\",\")\n",
      "\n",
      "f.seek(0)\n",
      "headerInfo = f.readline().rstrip().split(\",\")\n",
      "headerInfo"
     ],
     "language": "python",
     "metadata": {},
     "outputs": [
      {
       "metadata": {},
       "output_type": "pyout",
       "prompt_number": 106,
       "text": [
        "['Name', 'Grade', 'Age']"
       ]
      }
     ],
     "prompt_number": 106
    },
    {
     "cell_type": "code",
     "collapsed": false,
     "input": [
      "#header=f.readline().strip(\"\\n\").split(\",\") #do this sequentially\n",
      "csvF = csv.DictReader(f, fieldnames=headerInfo)"
     ],
     "language": "python",
     "metadata": {},
     "outputs": [],
     "prompt_number": 102
    },
    {
     "cell_type": "code",
     "collapsed": false,
     "input": [
      "rows = [x for x in csvF]"
     ],
     "language": "python",
     "metadata": {},
     "outputs": [],
     "prompt_number": 103
    },
    {
     "cell_type": "code",
     "collapsed": false,
     "input": [
      "rows"
     ],
     "language": "python",
     "metadata": {},
     "outputs": [
      {
       "metadata": {},
       "output_type": "pyout",
       "prompt_number": 104,
       "text": [
        "[{'Age': '14', 'Grade': '23', 'Name': 'fdkjfsl'},\n",
        " {'Age': '2000', 'Grade': '100', 'Name': 'dsklfjdl'},\n",
        " {'Age': '32', 'Grade': '32', 'Name': 'dsfjldskfj'}]"
       ]
      }
     ],
     "prompt_number": 104
    },
    {
     "cell_type": "code",
     "collapsed": false,
     "input": [
      "import json\n",
      "json.dumps(rows)"
     ],
     "language": "python",
     "metadata": {},
     "outputs": [
      {
       "metadata": {},
       "output_type": "pyout",
       "prompt_number": 107,
       "text": [
        "'[{\"Grade\": \"23\", \"Age\": \"14\", \"Name\": \"fdkjfsl\"}, {\"Grade\": \"100\", \"Age\": \"2000\", \"Name\": \"dsklfjdl\"}, {\"Grade\": \"32\", \"Age\": \"32\", \"Name\": \"dsfjldskfj\"}]'"
       ]
      }
     ],
     "prompt_number": 107
    },
    {
     "cell_type": "code",
     "collapsed": false,
     "input": [
      "jsonStr = '[\"jklgjfd\", \"lkdjfkldsj\", 13]'"
     ],
     "language": "python",
     "metadata": {},
     "outputs": [],
     "prompt_number": 108
    },
    {
     "cell_type": "code",
     "collapsed": false,
     "input": [
      "jsonStr[0]"
     ],
     "language": "python",
     "metadata": {},
     "outputs": [
      {
       "metadata": {},
       "output_type": "pyout",
       "prompt_number": 109,
       "text": [
        "'['"
       ]
      }
     ],
     "prompt_number": 109
    },
    {
     "cell_type": "code",
     "collapsed": false,
     "input": [
      "json.loads(jsonStr)"
     ],
     "language": "python",
     "metadata": {},
     "outputs": [
      {
       "metadata": {},
       "output_type": "pyout",
       "prompt_number": 110,
       "text": [
        "[u'jklgjfd', u'lkdjfkldsj', 13]"
       ]
      }
     ],
     "prompt_number": 110
    },
    {
     "cell_type": "code",
     "collapsed": false,
     "input": [
      "fj = open(\"jsonWritten.json\", \"w\")\n",
      "json.dump(rows, fj)\n",
      "fj.close()"
     ],
     "language": "python",
     "metadata": {},
     "outputs": [],
     "prompt_number": 113
    },
    {
     "cell_type": "code",
     "collapsed": false,
     "input": [
      "%%bash\n",
      "cat jsonWritten.json"
     ],
     "language": "python",
     "metadata": {},
     "outputs": [
      {
       "output_type": "stream",
       "stream": "stdout",
       "text": [
        "[{\"Grade\": \"23\", \"Age\": \"14\", \"Name\": \"fdkjfsl\"}, {\"Grade\": \"100\", \"Age\": \"2000\", \"Name\": \"dsklfjdl\"}, {\"Grade\": \"32\", \"Age\": \"32\", \"Name\": \"dsfjldskfj\"}]"
       ]
      }
     ],
     "prompt_number": 114
    },
    {
     "cell_type": "code",
     "collapsed": false,
     "input": [],
     "language": "python",
     "metadata": {},
     "outputs": []
    }
   ],
   "metadata": {}
  }
 ]
}