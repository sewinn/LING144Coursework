{
 "metadata": {
  "name": ""
 },
 "nbformat": 3,
 "nbformat_minor": 0,
 "worksheets": [
  {
   "cells": [
    {
     "cell_type": "markdown",
     "metadata": {},
     "source": [
      "## Problem 3\n",
      "\n",
      "Write a function that is passed that dict of dicts and arranges all of it in a nice contingency table, like the one below."
     ]
    },
    {
     "cell_type": "raw",
     "metadata": {},
     "source": [
      " AH  CH   D  HH  IH   K   M  UH   W\n",
      "      1               4             AH  \n",
      "  4                                 CH  \n",
      "      1                             D   \n",
      "                                    HH  \n",
      "                                    IH  \n",
      "                              2     K   \n",
      "  1                                 M   \n",
      "          6                         UH  \n",
      "                              4     W "
     ]
    },
    {
     "cell_type": "code",
     "collapsed": false,
     "input": [
      "#/usr/bin/ env python\n",
      "#-*- coding: utf-8 -*-\n",
      "\n",
      "__author__ = 'sewinn', 'shmbianc'\n",
      "__email__ = \"sewinn@ucsc.edu\", \"shmbianc@ucsc.edu\"\n",
      "\n",
      "dictionary = {u'AH': {u'CH': 1, u'K': 4}, u'CH': {u'AH': 4}, u'D': {u'CH': 1}, u'HH': {u'AW': 1}, u'IH': {u'F': 1}, u'K': {u'UH': 2}, u'M': {u'AH': 1}, u'UH': {u'D': 6}, u'W': {u'UH': 4}}\n",
      "\n",
      "def contingencyTable(dictionary):\n",
      "    '''\n",
      "    Creates a contingency table with phonemes and their counts as they appear in a file.\n",
      "    \n",
      "    Args:\n",
      "        dictionary: a dictionary of frequency counts for ARPABET phonemes\n",
      "    \n",
      "    Returns:\n",
      "        table: a contingency table with phonemes and their counts\n",
      "    \n",
      "    Raises:\n",
      "        Nothing.\n",
      "    '''\n",
      "    headers = []\n",
      "    for key in dictionary:\n",
      "        headers.append('{key:4s}'.format(key=key))\n",
      "    print ''.join(sorted(headers))\n",
      "    table = []\n",
      "    for key in dictionary:\n",
      "        subDict = dictionary[key]\n",
      "        row = \"\"\n",
      "        for phon in subDict:\n",
      "            for phon in dictionary.keys():\n",
      "                try:\n",
      "                    row += ('{count:4d}{sep}'.format(count=subDict[phon], sep='\\t') + phon)\n",
      "                except:\n",
      "                    row += '{sep}'.format(sep='\\t')\n",
      "        table.append(row)\n",
      "    for row in table:\n",
      "        print row\n",
      "    \n",
      "contingencyTable(dictionary)"
     ],
     "language": "python",
     "metadata": {},
     "outputs": [],
     "prompt_number": 2
    },
    {
     "cell_type": "code",
     "collapsed": false,
     "input": [],
     "language": "python",
     "metadata": {},
     "outputs": []
    }
   ],
   "metadata": {}
  }
 ]
}