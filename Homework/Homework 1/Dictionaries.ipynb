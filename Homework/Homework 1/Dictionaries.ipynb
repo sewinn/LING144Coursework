{
 "metadata": {
  "name": ""
 },
 "nbformat": 3,
 "nbformat_minor": 0,
 "worksheets": [
  {
   "cells": [
    {
     "cell_type": "markdown",
     "metadata": {
      "slideshow": {
       "slide_type": "slide"
      }
     },
     "source": [
      "A [**dictionary**](http://docs.python.org/2/tutorial/datastructures.html#dictionaries) is a type that stores an arbitrary map from one set (**keys**) to another (**values**). Each key must be associated with precisely one value, but keys could share the same value.\n",
      "\n",
      "Dictionaries are powerful and incredibly useful constructs for:\n",
      "\n",
      "* \"lists\" that are indexed by strings, not number offsets\n",
      "* creating semantically meaningful indices for lists\n",
      "* keeping track of a set of elements in one place\n",
      "    - the *namespace* is a dict in Python, internally"
     ]
    },
    {
     "cell_type": "code",
     "collapsed": false,
     "input": [
      "#declaring a new dict\n",
      "a = {} #empty dict\n",
      "b = {\"a\": 1, \"b\": 2, \"R\": [3,4,5]] #dict with elements\n",
      "\n",
      "#casting, only one way\n",
      "c = dict((1,2), (3, 4)) #gives {1:2, 3:4}\n"
     ],
     "language": "python",
     "metadata": {
      "slideshow": {
       "slide_type": "slide"
      }
     },
     "outputs": []
    },
    {
     "cell_type": "code",
     "collapsed": false,
     "input": [
      "#zip: created just for dicts\n",
      "m = [\"a\", \"b\", \"c\"]\n",
      "n = [1,2,3]\n",
      "print zip(m,n)\n",
      "print dict(zip(m,n))"
     ],
     "language": "python",
     "metadata": {},
     "outputs": [
      {
       "output_type": "stream",
       "stream": "stdout",
       "text": [
        "[('a', 1), ('b', 2), ('c', 3)]\n",
        "{'a': 1, 'c': 3, 'b': 2}\n"
       ]
      }
     ],
     "prompt_number": 1
    },
    {
     "cell_type": "code",
     "collapsed": false,
     "input": [
      "#basic commands\n",
      "#adding\n",
      "b[\"rerwe\"] = 3 #adds \"rerwe\": 3 to b\n",
      "\n",
      "#removing\n",
      "del b[\"b\"] #removes b[\"b\"]\n",
      "b.pop(\"R\") #removes b[\"c\"]\n",
      "\n",
      "#finding\n",
      "\"e\" in a # True if \"e\" is a key in a\n",
      "len(a) #the number of key-value pairs in a\n",
      "\n",
      "#keys and values\n",
      "b.keys() # [\"a\"] at this point\n",
      "b.values() #[1]\n",
      "b.items() #[(\"a\", 1)]\n",
      "#these are very important for looping\n",
      "# for key in b:\n",
      "# for value in b.values():\n",
      "# for key,value in b.items():\n"
     ],
     "language": "python",
     "metadata": {
      "slideshow": {
       "slide_type": "slide"
      }
     },
     "outputs": []
    },
    {
     "cell_type": "heading",
     "level": 2,
     "metadata": {
      "slideshow": {
       "slide_type": "slide"
      }
     },
     "source": [
      "Ordering"
     ]
    },
    {
     "cell_type": "markdown",
     "metadata": {},
     "source": [
      "Dictionaries sort material **unsorted**. In particular, the order things come out from the `keys` and `values` methods are essentially random from your perspective (they usually look like the order in which elements were added, but that's not quite true).\n",
      "\n",
      "If you want a particular order, you have to say so."
     ]
    },
    {
     "cell_type": "code",
     "collapsed": false,
     "input": [
      "wordFreq = {\"a\": 9, \"say\": 2, \"knowledge\": 14}\n",
      "\n",
      "for word in wordFreq:\n",
      "    print word\n",
      "\n",
      "for word in sorted(wordFreq):\n",
      "    print word\n",
      "\n",
      "# if you want to sort by value, you have to extract everything\n",
      "items = wordFreq.items()\n",
      "def getValue(item):\n",
      "    return item[1]\n",
      "\n",
      "items.sort(key=getValue, reverse=True)\n",
      "print items"
     ],
     "language": "python",
     "metadata": {
      "slideshow": {
       "slide_type": "subslide"
      }
     },
     "outputs": [
      {
       "output_type": "stream",
       "stream": "stdout",
       "text": [
        "a\n",
        "say\n",
        "knowledge\n",
        "a\n",
        "knowledge\n",
        "say\n",
        "[('knowledge', 14), ('a', 9), ('say', 2)]\n"
       ]
      }
     ],
     "prompt_number": 6
    },
    {
     "cell_type": "heading",
     "level": 2,
     "metadata": {},
     "source": [
      "A Common Pitfall"
     ]
    },
    {
     "cell_type": "code",
     "collapsed": false,
     "input": [
      "wordFreq = {}\n",
      "wordList = \"a tale that a person who a another person knew told a friend of his\".split(\" \")\n",
      "for word in wordList:\n",
      "    wordFreq[word] += 1\n",
      "# this will trigger a KeyError, because dicts don't automatically create keys\n",
      "# this is because it's not clear what the value should be."
     ],
     "language": "python",
     "metadata": {},
     "outputs": [
      {
       "ename": "KeyError",
       "evalue": "'a'",
       "output_type": "pyerr",
       "traceback": [
        "\u001b[0;31m---------------------------------------------------------------------------\u001b[0m\n\u001b[0;31mKeyError\u001b[0m                                  Traceback (most recent call last)",
        "\u001b[0;32m<ipython-input-7-ca35a11bc75a>\u001b[0m in \u001b[0;36m<module>\u001b[0;34m()\u001b[0m\n\u001b[1;32m      2\u001b[0m \u001b[0mwordList\u001b[0m \u001b[0;34m=\u001b[0m \u001b[0;34m\"a tale that a person who a another person knew told a friend of his\"\u001b[0m\u001b[0;34m.\u001b[0m\u001b[0msplit\u001b[0m\u001b[0;34m(\u001b[0m\u001b[0;34m\" \"\u001b[0m\u001b[0;34m)\u001b[0m\u001b[0;34m\u001b[0m\u001b[0m\n\u001b[1;32m      3\u001b[0m \u001b[0;32mfor\u001b[0m \u001b[0mword\u001b[0m \u001b[0;32min\u001b[0m \u001b[0mwordList\u001b[0m\u001b[0;34m:\u001b[0m\u001b[0;34m\u001b[0m\u001b[0m\n\u001b[0;32m----> 4\u001b[0;31m     \u001b[0mwordFreq\u001b[0m\u001b[0;34m[\u001b[0m\u001b[0mword\u001b[0m\u001b[0;34m]\u001b[0m \u001b[0;34m+=\u001b[0m \u001b[0;36m1\u001b[0m\u001b[0;34m\u001b[0m\u001b[0m\n\u001b[0m",
        "\u001b[0;31mKeyError\u001b[0m: 'a'"
       ]
      }
     ],
     "prompt_number": 7
    },
    {
     "cell_type": "code",
     "collapsed": false,
     "input": [
      "# Option 1: use an if...else\n",
      "wordFreq = {}\n",
      "\n",
      "for word in wordList:\n",
      "    if word in wordFreq:\n",
      "        wordFreq[word] += 1\n",
      "    else:\n",
      "        wordFreq[word] = 1 #it is this initialization that's missing\n",
      "\n",
      "print wordFreq"
     ],
     "language": "python",
     "metadata": {},
     "outputs": [
      {
       "output_type": "stream",
       "stream": "stdout",
       "text": [
        "{'a': 4, 'knew': 1, 'that': 1, 'of': 1, 'who': 1, 'tale': 1, 'person': 2, 'his': 1, 'another': 1, 'friend': 1, 'told': 1}\n"
       ]
      }
     ],
     "prompt_number": 16
    },
    {
     "cell_type": "code",
     "collapsed": false,
     "input": [
      "# Option 2: use a try...except\n",
      "wordFreq = {}\n",
      "\n",
      "for word in wordList:\n",
      "    try:\n",
      "        wordFreq[word] +=1\n",
      "    except KeyError: #if that didn't work, and you get a KeyError\n",
      "        wordFreq[word] = 1\n",
      "\n",
      "print wordFreq"
     ],
     "language": "python",
     "metadata": {},
     "outputs": [
      {
       "output_type": "stream",
       "stream": "stdout",
       "text": [
        "{'a': 4, 'knew': 1, 'that': 1, 'of': 1, 'who': 1, 'tale': 1, 'person': 2, 'his': 1, 'another': 1, 'friend': 1, 'told': 1}\n"
       ]
      }
     ],
     "prompt_number": 15
    },
    {
     "cell_type": "code",
     "collapsed": false,
     "input": [
      "#Option 3: use setdefault to do this automatically\n",
      "wordFreq = {}\n",
      "for word in wordList:\n",
      "    wordFreq[word] = wordFreq.setdefault(word,0) +1\n",
      "\n",
      "print wordFreq"
     ],
     "language": "python",
     "metadata": {},
     "outputs": [
      {
       "output_type": "stream",
       "stream": "stdout",
       "text": [
        "{'a': 4, 'knew': 1, 'that': 1, 'of': 1, 'who': 1, 'tale': 1, 'person': 2, 'his': 1, 'another': 1, 'friend': 1, 'told': 1}\n"
       ]
      }
     ],
     "prompt_number": 14
    },
    {
     "cell_type": "heading",
     "level": 2,
     "metadata": {},
     "source": [
      "What a Dictionary Is"
     ]
    },
    {
     "cell_type": "markdown",
     "metadata": {},
     "source": [
      "Dictionaries are [**hash table**](http://en.wikipedia.org/wiki/Hash_table) data structures. These are fixed sized lists (or tables) with an associated **hash function** that maps from arbitrary data to indices in the list.\n",
      "\n",
      "The secret sauce here is in two parts:\n",
      "\n",
      "1. a good hash function: one that tends not to send non-identical material to the same value, but which doesn't require a huge hash table (lots of empty space).\n",
      "\n",
      "2. collision recovery: it will happen for all real hash functions that some pieces of actual data will be mapped to the same index. In such cases, a *collision* has occurred, and to resolve it, the system must place the new data in an easily findable location. \n",
      "\n",
      "[Dictionary implementation in Python (45 min.)](http://blip.tv/pycon-us-videos-2009-2010-2011/pycon-2010-the-mighty-dictionary-55-3352147)"
     ]
    }
   ],
   "metadata": {}
  }
 ]
}